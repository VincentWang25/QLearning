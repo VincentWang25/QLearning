{
 "cells": [
  {
   "cell_type": "markdown",
   "metadata": {
    "toc": true
   },
   "source": [
    "<h1>Table of Contents<span class=\"tocSkip\"></span></h1>\n",
    "<div class=\"toc\"><ul class=\"toc-item\"><li><span><a href=\"#Overview\" data-toc-modified-id=\"Overview-0\"><span class=\"toc-item-num\">0&nbsp;&nbsp;</span>Overview</a></span></li><li><span><a href=\"#Inserting-Records\" data-toc-modified-id=\"Inserting-Records-1\"><span class=\"toc-item-num\">1&nbsp;&nbsp;</span>Inserting Records</a></span><ul class=\"toc-item\"><li><span><a href=\"#Basic-insert\" data-toc-modified-id=\"Basic-insert-1.1\"><span class=\"toc-item-num\">1.1&nbsp;&nbsp;</span>Basic <code>insert</code></a></span></li><li><span><a href=\"#Bulk-Columnar-Insert\" data-toc-modified-id=\"Bulk-Columnar-Insert-1.2\"><span class=\"toc-item-num\">1.2&nbsp;&nbsp;</span>Bulk Columnar Insert</a></span></li><li><span><a href=\"#Insert-into-Empty-Tables\" data-toc-modified-id=\"Insert-into-Empty-Tables-1.3\"><span class=\"toc-item-num\">1.3&nbsp;&nbsp;</span>Insert into Empty Tables</a></span></li><li><span><a href=\"#Insert-and-Foreign-Keys\" data-toc-modified-id=\"Insert-and-Foreign-Keys-1.4\"><span class=\"toc-item-num\">1.4&nbsp;&nbsp;</span>Insert and Foreign Keys</a></span></li><li><span><a href=\"#Insert-into-Keyed-Tables\" data-toc-modified-id=\"Insert-into-Keyed-Tables-1.5\"><span class=\"toc-item-num\">1.5&nbsp;&nbsp;</span>Insert into Keyed Tables</a></span></li></ul></li><li><span><a href=\"#Upsert\" data-toc-modified-id=\"Upsert-2\"><span class=\"toc-item-num\">2&nbsp;&nbsp;</span><code>Upsert</code></a></span><ul class=\"toc-item\"><li><span><a href=\"#Upsert-Replacing-Insert\" data-toc-modified-id=\"Upsert-Replacing-Insert-2.1\"><span class=\"toc-item-num\">2.1&nbsp;&nbsp;</span><code>Upsert</code> Replacing <code>Insert</code></a></span></li><li><span><a href=\"#Upsert-by-Name\" data-toc-modified-id=\"Upsert-by-Name-2.2\"><span class=\"toc-item-num\">2.2&nbsp;&nbsp;</span>Upsert by Name</a></span></li><li><span><a href=\"#Upsert-on-Keyed-Tables\" data-toc-modified-id=\"Upsert-on-Keyed-Tables-2.3\"><span class=\"toc-item-num\">2.3&nbsp;&nbsp;</span>Upsert on Keyed Tables</a></span></li><li><span><a href=\"#Upsert-on-Persisted-Tables\" data-toc-modified-id=\"Upsert-on-Persisted-Tables-2.4\"><span class=\"toc-item-num\">2.4&nbsp;&nbsp;</span>Upsert on Persisted Tables</a></span></li></ul></li><li><span><a href=\"#The-select-Template\" data-toc-modified-id=\"The-select-Template-3\"><span class=\"toc-item-num\">3&nbsp;&nbsp;</span>The <code>select</code> Template</a></span><ul class=\"toc-item\"><li><span><a href=\"#Syntax\" data-toc-modified-id=\"Syntax-3.1\"><span class=\"toc-item-num\">3.1&nbsp;&nbsp;</span>Syntax</a></span></li><li><span><a href=\"#The-Select-Phrase\" data-toc-modified-id=\"The-Select-Phrase-3.2\"><span class=\"toc-item-num\">3.2&nbsp;&nbsp;</span>The Select Phrase</a></span><ul class=\"toc-item\"><li><span><a href=\"#Result-Column-Names\" data-toc-modified-id=\"Result-Column-Names-3.2.1\"><span class=\"toc-item-num\">3.2.1&nbsp;&nbsp;</span>Result Column Names</a></span></li><li><span><a href=\"#The-Virtual-Column-i\" data-toc-modified-id=\"The-Virtual-Column-i-3.2.2\"><span class=\"toc-item-num\">3.2.2&nbsp;&nbsp;</span>The Virtual Column <code>i</code></a></span></li><li><span><a href=\"#select-distinct\" data-toc-modified-id=\"select-distinct-3.2.3\"><span class=\"toc-item-num\">3.2.3&nbsp;&nbsp;</span><code>select</code> <code>distinct</code></a></span></li><li><span><a href=\"#select-[]\" data-toc-modified-id=\"select-[]-3.2.4\"><span class=\"toc-item-num\">3.2.4&nbsp;&nbsp;</span><code>select []</code></a></span></li><li><span><a href=\"#Select-on-Nested-Columns\" data-toc-modified-id=\"Select-on-Nested-Columns-3.2.5\"><span class=\"toc-item-num\">3.2.5&nbsp;&nbsp;</span>Select on Nested Columns</a></span></li></ul></li><li><span><a href=\"#Filtering-with-where\" data-toc-modified-id=\"Filtering-with-where-3.3\"><span class=\"toc-item-num\">3.3&nbsp;&nbsp;</span>Filtering with <code>where</code></a></span><ul class=\"toc-item\"><li><span><a href=\"#Basic-where\" data-toc-modified-id=\"Basic-where-3.3.1\"><span class=\"toc-item-num\">3.3.1&nbsp;&nbsp;</span>Basic where</a></span></li><li><span><a href=\"#The-Virtual-Column-i-in-where\" data-toc-modified-id=\"The-Virtual-Column-i-in-where-3.3.2\"><span class=\"toc-item-num\">3.3.2&nbsp;&nbsp;</span>The Virtual Column <code>i</code> in <code>where</code></a></span></li><li><span><a href=\"#Multiple-Where-Subphrases\" data-toc-modified-id=\"Multiple-Where-Subphrases-3.3.3\"><span class=\"toc-item-num\">3.3.3&nbsp;&nbsp;</span>Multiple Where Subphrases</a></span></li><li><span><a href=\"#Nested-Columns-in-Where\" data-toc-modified-id=\"Nested-Columns-in-Where-3.3.4\"><span class=\"toc-item-num\">3.3.4&nbsp;&nbsp;</span>Nested Columns in Where</a></span></li><li><span><a href=\"#fby-i-Where\" data-toc-modified-id=\"fby-i-Where-3.3.5\"><span class=\"toc-item-num\">3.3.5&nbsp;&nbsp;</span><code>fby</code> i Where</a></span></li></ul></li><li><span><a href=\"#Grouping-and-Aggregation\" data-toc-modified-id=\"Grouping-and-Aggregation-3.4\"><span class=\"toc-item-num\">3.4&nbsp;&nbsp;</span>Grouping and Aggregation</a></span><ul class=\"toc-item\"><li><span><a href=\"#Aggregation-without-Grouping\" data-toc-modified-id=\"Aggregation-without-Grouping-3.4.1\"><span class=\"toc-item-num\">3.4.1&nbsp;&nbsp;</span>Aggregation without Grouping</a></span></li><li><span><a href=\"#Grouping-without-Aggregation\" data-toc-modified-id=\"Grouping-without-Aggregation-3.4.2\"><span class=\"toc-item-num\">3.4.2&nbsp;&nbsp;</span>Grouping without Aggregation</a></span></li><li><span><a href=\"#Grouping-with-Aggregation\" data-toc-modified-id=\"Grouping-with-Aggregation-3.4.3\"><span class=\"toc-item-num\">3.4.3&nbsp;&nbsp;</span>Grouping with Aggregation</a></span></li></ul></li></ul></li><li><span><a href=\"#The-exec-Template\" data-toc-modified-id=\"The-exec-Template-4\"><span class=\"toc-item-num\">4&nbsp;&nbsp;</span>The <code>exec</code> Template</a></span></li><li><span><a href=\"#The-update-Template\" data-toc-modified-id=\"The-update-Template-5\"><span class=\"toc-item-num\">5&nbsp;&nbsp;</span>The <code>update</code> Template</a></span><ul class=\"toc-item\"><li><span><a href=\"#Basic-update\" data-toc-modified-id=\"Basic-update-5.1\"><span class=\"toc-item-num\">5.1&nbsp;&nbsp;</span>Basic update</a></span></li><li><span><a href=\"#update-by\" data-toc-modified-id=\"update-by-5.2\"><span class=\"toc-item-num\">5.2&nbsp;&nbsp;</span>update-by</a></span></li></ul></li><li><span><a href=\"#The-delete-Template\" data-toc-modified-id=\"The-delete-Template-6\"><span class=\"toc-item-num\">6&nbsp;&nbsp;</span>The <code>delete</code> Template</a></span></li><li><span><a href=\"#Sorting\" data-toc-modified-id=\"Sorting-7\"><span class=\"toc-item-num\">7&nbsp;&nbsp;</span>Sorting</a></span><ul class=\"toc-item\"><li><span><a href=\"#xasc\" data-toc-modified-id=\"xasc-7.1\"><span class=\"toc-item-num\">7.1&nbsp;&nbsp;</span><code>xasc</code></a></span></li><li><span><a href=\"#xdesc\" data-toc-modified-id=\"xdesc-7.2\"><span class=\"toc-item-num\">7.2&nbsp;&nbsp;</span><code>xdesc</code></a></span></li><li><span><a href=\"#Mixed-Sort\" data-toc-modified-id=\"Mixed-Sort-7.3\"><span class=\"toc-item-num\">7.3&nbsp;&nbsp;</span>Mixed Sort</a></span></li></ul></li><li><span><a href=\"#Renaming-and-Rearranging-Columns\" data-toc-modified-id=\"Renaming-and-Rearranging-Columns-8\"><span class=\"toc-item-num\">8&nbsp;&nbsp;</span>Renaming and Rearranging Columns</a></span><ul class=\"toc-item\"><li><span><a href=\"#xcol\" data-toc-modified-id=\"xcol-8.1\"><span class=\"toc-item-num\">8.1&nbsp;&nbsp;</span><code>xcol</code></a></span></li><li><span><a href=\"#xcols\" data-toc-modified-id=\"xcols-8.2\"><span class=\"toc-item-num\">8.2&nbsp;&nbsp;</span><code>xcols</code></a></span></li></ul></li><li><span><a href=\"#Joins\" data-toc-modified-id=\"Joins-9\"><span class=\"toc-item-num\">9&nbsp;&nbsp;</span>Joins</a></span></li></ul></div>"
   ]
  },
  {
   "cell_type": "markdown",
   "metadata": {},
   "source": [
    "## Overview\n",
    "\n",
    "Difference between SQL and q:\n",
    "1. q table has ordered rows and columns. This is particularly useful when dealing with the situation where records arrive in time order. Appending them to a table ensures that they enter – and stay – in order. Subsequent select operations always retrieve the records in order without any need for sorting.\n",
    "2. q table is stored physically as a collection of column lists. This means that operations on column data are vector operations. Moreover, for simple column lists, atomic, aggregate and uniform functions applied to columns are especially simple and fast since they reduce to direct memory addressing.\n",
    "3. q-sql provides upsert semantics. Recall that upsert semantics on a dictionary mean that when a key-value pair is applied with `,` and the key is present, the value is updated; otherwise the pair is inserted. In the context of tables and keyed tables, which are both dictionaries, this has far-reaching consequences for many common operations, including joins. Upsert semantics permeate q-sql."
   ]
  },
  {
   "cell_type": "code",
   "execution_count": 1,
   "metadata": {
    "ExecuteTime": {
     "end_time": "2020-11-23T20:21:16.078747000Z",
     "start_time": "2020-11-23T20:21:15.128Z"
    }
   },
   "outputs": [],
   "source": [
    "s:([s:`s1`s2`s3`s4`s5]\n",
    " name:`smith`jones`blake`clark`adams;\n",
    " status:20 10 30 20 30;\n",
    " city:`london`paris`paris`london`athens)\n",
    "\n",
    "p:([p:`p1`p2`p3`p4`p5`p6]\n",
    " name:`nut`bolt`screw`screw`cam`cog;\n",
    " color:`red`green`blue`red`blue`red;\n",
    " weight:12 17 17 14 12 19;\n",
    " city:`london`paris`rome`london`paris`london)\n",
    "\n",
    "sp:([]\n",
    " s:`s$`s1`s1`s1`s1`s4`s1`s2`s2`s3`s4`s4`s4;\t/ fkey\n",
    " p:`p$`p1`p2`p3`p4`p5`p6`p1`p2`p2`p2`p4`p5;\t/ fkey\n",
    " qty:300 200 400 200 100 100 300 400 200 200 300 400)"
   ]
  },
  {
   "cell_type": "code",
   "execution_count": 2,
   "metadata": {
    "ExecuteTime": {
     "end_time": "2020-11-23T20:21:16.081873000Z",
     "start_time": "2020-11-23T20:21:15.136Z"
    }
   },
   "outputs": [
    {
     "data": {
      "text/plain": [
       "c     | t f a\n",
       "------| -----\n",
       "s     | s    \n",
       "name  | s    \n",
       "status| j    \n",
       "city  | s    \n"
      ]
     },
     "execution_count": 2,
     "metadata": {},
     "output_type": "execute_result"
    },
    {
     "data": {
      "text/plain": [
       "c     | t f a\n",
       "------| -----\n",
       "p     | s    \n",
       "name  | s    \n",
       "color | s    \n",
       "weight| j    \n",
       "city  | s    \n"
      ]
     },
     "execution_count": 2,
     "metadata": {},
     "output_type": "execute_result"
    },
    {
     "data": {
      "text/plain": [
       "c  | t f a\n",
       "---| -----\n",
       "s  | s s  \n",
       "p  | s p  \n",
       "qty| j    \n"
      ]
     },
     "execution_count": 2,
     "metadata": {},
     "output_type": "execute_result"
    }
   ],
   "source": [
    "meta s\n",
    "meta p\n",
    "meta sp"
   ]
  },
  {
   "cell_type": "markdown",
   "metadata": {},
   "source": [
    "## Inserting Records\n",
    "**The upsert function is superior to insert and is to be preferred. We include insert for nostalgia only.**"
   ]
  },
  {
   "cell_type": "markdown",
   "metadata": {},
   "source": [
    "**Appending using Assign**\n",
    "\n",
    "Since a table is (logically) a list of records, it is possible to append records in place using `,:`. Type checking on field values is performed."
   ]
  },
  {
   "cell_type": "code",
   "execution_count": 2,
   "metadata": {
    "ExecuteTime": {
     "end_time": "2020-11-23T20:21:16.083997000Z",
     "start_time": "2020-11-23T20:21:15.144Z"
    }
   },
   "outputs": [
    {
     "ename": "\u001b[0;31mtype\u001b[0m",
     "evalue": "\u001b[0;31mtype\u001b[0m",
     "output_type": "error",
     "traceback": [
      "\u001b[0;31mevaluation error:\n\u001b[0m",
      "\u001b[0;31mtype\u001b[0m",
      "\u001b[0;31m\u001b[0m",
      "\u001b[0;31m  [0]  t,:`name`iq!(`Dent; 98.0)\n        ^\n\u001b[0m"
     ]
    }
   ],
   "source": [
    "t:([] name:`symbol$(); iq:`int$())\n",
    "t,:`name`iq!(`Beeblebrox; 42)\n",
    "t,:`name`iq!(`Dent; 98.0)"
   ]
  },
  {
   "cell_type": "code",
   "execution_count": 3,
   "metadata": {
    "ExecuteTime": {
     "end_time": "2020-11-23T20:21:16.084954000Z",
     "start_time": "2020-11-23T20:21:15.149Z"
    }
   },
   "outputs": [],
   "source": [
    "t,:(`Prefect; 126)"
   ]
  },
  {
   "cell_type": "code",
   "execution_count": 4,
   "metadata": {
    "ExecuteTime": {
     "end_time": "2020-11-23T20:21:16.086368000Z",
     "start_time": "2020-11-23T20:21:15.153Z"
    }
   },
   "outputs": [
    {
     "data": {
      "text/plain": [
       "name       iq \n",
       "--------------\n",
       "Beeblebrox 42 \n",
       "Prefect    126\n",
       "Prefect    126\n",
       "Prefect    126\n"
      ]
     },
     "execution_count": 4,
     "metadata": {},
     "output_type": "execute_result"
    }
   ],
   "source": [
    "t,:(`Prefect; 126)\n",
    "t,:(`Prefect; 126)\n",
    "t"
   ]
  },
  {
   "cell_type": "markdown",
   "metadata": {},
   "source": [
    "Assign has upsert semantics on keyed tables, so repeated operation on the same key will retain only the last values."
   ]
  },
  {
   "cell_type": "code",
   "execution_count": 5,
   "metadata": {
    "ExecuteTime": {
     "end_time": "2020-11-23T20:21:16.087774000Z",
     "start_time": "2020-11-23T20:21:15.156Z"
    }
   },
   "outputs": [
    {
     "data": {
      "text/plain": [
       "eid | name iq \n",
       "----| --------\n",
       "1002| Dent 101\n"
      ]
     },
     "execution_count": 5,
     "metadata": {},
     "output_type": "execute_result"
    }
   ],
   "source": [
    "kt:([eid:`long$()] name:`symbol$(); iq:`long$())\n",
    "kt,:(1002; `Dent; 98)\n",
    "kt,:(1002; `Dent; 101)\n",
    "kt"
   ]
  },
  {
   "cell_type": "markdown",
   "metadata": {},
   "source": [
    "### Basic `insert`\n",
    "Those who prefer the familiarity of SQL can append records to an existing global table using the binary function insert whose left operand is a symbol containing the name of a global table (target) and whose right argument is a record, or list of records, conforming to the target. The result is a list of integers representing the row number(s) of the appended record(s).\n",
    "\n",
    "\n",
    "Since insert essentially reduces to amend in place, **fields are type checked**.\n",
    "- If the target column is simple, the type must match exactly.\n",
    "- If the target column is an untyped empty list, the result will take the type of the field in the initial insert."
   ]
  },
  {
   "cell_type": "code",
   "execution_count": 6,
   "metadata": {
    "ExecuteTime": {
     "end_time": "2020-11-23T20:21:16.090222000Z",
     "start_time": "2020-11-23T20:21:15.159Z"
    }
   },
   "outputs": [
    {
     "data": {
      "text/plain": [
       ",3\n"
      ]
     },
     "execution_count": 6,
     "metadata": {},
     "output_type": "execute_result"
    },
    {
     "data": {
      "text/plain": [
       ",4\n"
      ]
     },
     "execution_count": 6,
     "metadata": {},
     "output_type": "execute_result"
    },
    {
     "data": {
      "text/plain": [
       "name           iq \n",
       "------------------\n",
       "Dent           42 \n",
       "Beeblebrox     98 \n",
       "Prefect        126\n",
       "Slartibartfast 134\n",
       "Marvin         150\n"
      ]
     },
     "execution_count": 6,
     "metadata": {},
     "output_type": "execute_result"
    }
   ],
   "source": [
    "t:([] name:`Dent`Beeblebrox`Prefect; iq:42 98 126)\n",
    "`t insert (`name`iq)!(`Slartibartfast; 134)\n",
    "`t insert (`Marvin; 150)\n",
    "t"
   ]
  },
  {
   "cell_type": "code",
   "execution_count": 7,
   "metadata": {
    "ExecuteTime": {
     "end_time": "2020-11-23T20:21:16.092685000Z",
     "start_time": "2020-11-23T20:21:15.161Z"
    }
   },
   "outputs": [
    {
     "data": {
      "text/plain": [
       ",5\n"
      ]
     },
     "execution_count": 7,
     "metadata": {},
     "output_type": "execute_result"
    },
    {
     "data": {
      "text/plain": [
       ",6\n"
      ]
     },
     "execution_count": 7,
     "metadata": {},
     "output_type": "execute_result"
    },
    {
     "data": {
      "text/plain": [
       "name           iq \n",
       "------------------\n",
       "Dent           42 \n",
       "Beeblebrox     98 \n",
       "Prefect        126\n",
       "Slartibartfast 134\n",
       "Marvin         150\n",
       "Marvin         150\n",
       "Marvin         150\n"
      ]
     },
     "execution_count": 7,
     "metadata": {},
     "output_type": "execute_result"
    }
   ],
   "source": [
    "`t insert (`Marvin; 150)\n",
    "`t insert (`Marvin; 150)\n",
    "t"
   ]
  },
  {
   "cell_type": "markdown",
   "metadata": {},
   "source": [
    "Since a list of conforming records is a table, **inserting a list of records is the same as inserting a table**. Observe that use of `3#` to truncate the table."
   ]
  },
  {
   "cell_type": "code",
   "execution_count": 8,
   "metadata": {
    "ExecuteTime": {
     "end_time": "2020-11-23T20:21:16.095593000Z",
     "start_time": "2020-11-23T20:21:15.164Z"
    }
   },
   "outputs": [
    {
     "data": {
      "text/plain": [
       "3 4\n"
      ]
     },
     "execution_count": 8,
     "metadata": {},
     "output_type": "execute_result"
    },
    {
     "data": {
      "text/plain": [
       "name           iq \n",
       "------------------\n",
       "Dent           42 \n",
       "Beeblebrox     98 \n",
       "Prefect        126\n",
       "Slartibartfast 134\n",
       "Marvin         200\n"
      ]
     },
     "execution_count": 8,
     "metadata": {},
     "output_type": "execute_result"
    },
    {
     "data": {
      "text/plain": [
       "3 4\n"
      ]
     },
     "execution_count": 8,
     "metadata": {},
     "output_type": "execute_result"
    },
    {
     "data": {
      "text/plain": [
       "name           iq \n",
       "------------------\n",
       "Dent           42 \n",
       "Beeblebrox     98 \n",
       "Prefect        126\n",
       "Slartibartfast 134\n",
       "Marvin         200\n"
      ]
     },
     "execution_count": 8,
     "metadata": {},
     "output_type": "execute_result"
    }
   ],
   "source": [
    "t:3#t\n",
    "`t insert (`name`iq!(`Slartibartfast; 134); (`name`iq!(`Marvin; 200)))\n",
    "t\n",
    "t:3#t\n",
    "`t insert ([] name:`Slartibartfast`Marvin; iq:134 200)\n",
    "t"
   ]
  },
  {
   "cell_type": "markdown",
   "metadata": {},
   "source": [
    "You can also use `insert` in **prefix form**, possibly with the table name projected. For example, the previous insert can be written as,"
   ]
  },
  {
   "cell_type": "code",
   "execution_count": 9,
   "metadata": {
    "ExecuteTime": {
     "end_time": "2020-11-23T20:21:16.097744000Z",
     "start_time": "2020-11-23T20:21:15.167Z"
    }
   },
   "outputs": [
    {
     "data": {
      "text/plain": [
       ",5\n"
      ]
     },
     "execution_count": 9,
     "metadata": {},
     "output_type": "execute_result"
    },
    {
     "data": {
      "text/plain": [
       ",6\n"
      ]
     },
     "execution_count": 9,
     "metadata": {},
     "output_type": "execute_result"
    }
   ],
   "source": [
    "insert[`t; (`Slartibartfast; 134)]\n",
    "insert[`t;] (`Slartibartfast; 134)"
   ]
  },
  {
   "cell_type": "markdown",
   "metadata": {},
   "source": [
    "### Bulk Columnar Insert\n",
    "\n",
    "It is also possible to bulk insert naked field values but there is a twist. To bulk insert naked field values, you provide a list of **columns** not a list of rows."
   ]
  },
  {
   "cell_type": "code",
   "execution_count": 9,
   "metadata": {
    "ExecuteTime": {
     "end_time": "2020-11-23T20:21:16.099651000Z",
     "start_time": "2020-11-23T20:21:15.170Z"
    }
   },
   "outputs": [
    {
     "data": {
      "text/plain": [
       "2 3\n"
      ]
     },
     "execution_count": 10,
     "metadata": {},
     "output_type": "execute_result"
    },
    {
     "ename": "\u001b[0;31mtype\u001b[0m",
     "evalue": "\u001b[0;31mtype\u001b[0m",
     "output_type": "error",
     "traceback": [
      "\u001b[0;31mevaluation error:\n\u001b[0m",
      "\u001b[0;31mtype\u001b[0m",
      "\u001b[0;31m\u001b[0m",
      "\u001b[0;31m  [0]  `t insert ((`Prefect; 126); (`Marvin; 200))\n          ^\n\u001b[0m"
     ]
    }
   ],
   "source": [
    "t:([] name:`Dent`Beeblebrox; iq:98 42)\n",
    "`t insert (`Prefect`Marvin; 126 200)\n",
    "`t insert ((`Prefect; 126); (`Marvin; 200))"
   ]
  },
  {
   "cell_type": "markdown",
   "metadata": {},
   "source": [
    "### Insert into Empty Tables"
   ]
  },
  {
   "cell_type": "code",
   "execution_count": 10,
   "metadata": {
    "ExecuteTime": {
     "end_time": "2020-11-23T20:21:16.101635000Z",
     "start_time": "2020-11-23T20:21:15.172Z"
    }
   },
   "outputs": [
    {
     "data": {
      "text/plain": [
       ",0\n"
      ]
     },
     "execution_count": 10,
     "metadata": {},
     "output_type": "execute_result"
    },
    {
     "data": {
      "text/plain": [
       "c   | t f a\n",
       "----| -----\n",
       "name| s    \n",
       "iq  | j    \n"
      ]
     },
     "execution_count": 10,
     "metadata": {},
     "output_type": "execute_result"
    }
   ],
   "source": [
    "t:([] name:(); iq:())\n",
    "`t insert (`Dent;98)\n",
    "meta t"
   ]
  },
  {
   "cell_type": "code",
   "execution_count": 10,
   "metadata": {
    "ExecuteTime": {
     "end_time": "2020-11-23T20:21:16.103577000Z",
     "start_time": "2020-11-23T20:21:15.173Z"
    }
   },
   "outputs": [
    {
     "data": {
      "text/plain": [
       ",0\n"
      ]
     },
     "execution_count": 11,
     "metadata": {},
     "output_type": "execute_result"
    },
    {
     "ename": "\u001b[0;31mtype\u001b[0m",
     "evalue": "\u001b[0;31mtype\u001b[0m",
     "output_type": "error",
     "traceback": [
      "\u001b[0;31mevaluation error:\n\u001b[0m",
      "\u001b[0;31mtype\u001b[0m",
      "\u001b[0;31m\u001b[0m",
      "\u001b[0;31m  [0]  `t insert (`Beeblebrox; 42)\n          ^\n\u001b[0m"
     ]
    }
   ],
   "source": [
    "t:([] name:(); iq:())\n",
    "`t insert (`Dent;98.0)\n",
    "`t insert (`Beeblebrox; 42)"
   ]
  },
  {
   "cell_type": "markdown",
   "metadata": {},
   "source": [
    "**Recommendation**\n",
    "\n",
    "It is good practice to type all columns in an empty table. This will ensure that incorrect types are rejected and correct ones accepted."
   ]
  },
  {
   "cell_type": "code",
   "execution_count": 10,
   "metadata": {
    "ExecuteTime": {
     "end_time": "2020-11-23T20:21:16.104870000Z",
     "start_time": "2020-11-23T20:21:15.175Z"
    }
   },
   "outputs": [
    {
     "ename": "\u001b[0;31mtype\u001b[0m",
     "evalue": "\u001b[0;31mtype\u001b[0m",
     "output_type": "error",
     "traceback": [
      "\u001b[0;31mevaluation error:\n\u001b[0m",
      "\u001b[0;31mtype\u001b[0m",
      "\u001b[0;31m\u001b[0m",
      "\u001b[0;31m  [0]  `t insert (`Dent;98.0)\n          ^\n\u001b[0m"
     ]
    }
   ],
   "source": [
    "t:([] name:`symbol$(); iq:`int$())\n",
    "`t insert (`Dent;98.0)\n",
    "`t insert (`Beeblebrox; 42)"
   ]
  },
  {
   "cell_type": "markdown",
   "metadata": {},
   "source": [
    "It is also possible to insert a **list** of conforming records (i.e., a table) into a table that does not exist. This is the same as assigning the table to a variable of the specified name."
   ]
  },
  {
   "cell_type": "code",
   "execution_count": 11,
   "metadata": {
    "ExecuteTime": {
     "end_time": "2020-11-23T20:21:16.105883000Z",
     "start_time": "2020-11-23T20:21:15.177Z"
    }
   },
   "outputs": [
    {
     "data": {
      "text/plain": [
       ",0\n"
      ]
     },
     "execution_count": 11,
     "metadata": {},
     "output_type": "execute_result"
    },
    {
     "data": {
      "text/plain": [
       "c1 c2\n",
       "-----\n",
       "a  10\n"
      ]
     },
     "execution_count": 11,
     "metadata": {},
     "output_type": "execute_result"
    }
   ],
   "source": [
    "`tnew insert enlist `c1`c2!(`a; 10)\n",
    "tnew"
   ]
  },
  {
   "cell_type": "markdown",
   "metadata": {},
   "source": [
    "### Insert and Foreign Keys\n",
    "\n",
    "enumeration is a form of cast."
   ]
  },
  {
   "cell_type": "code",
   "execution_count": 11,
   "metadata": {
    "ExecuteTime": {
     "end_time": "2020-11-23T20:21:16.106879000Z",
     "start_time": "2020-11-23T20:21:15.179Z"
    }
   },
   "outputs": [
    {
     "data": {
      "text/plain": [
       ",5\n"
      ]
     },
     "execution_count": 12,
     "metadata": {},
     "output_type": "execute_result"
    },
    {
     "ename": "\u001b[0;31mcast\u001b[0m",
     "evalue": "\u001b[0;31mcast\u001b[0m",
     "output_type": "error",
     "traceback": [
      "\u001b[0;31mevaluation error:\n\u001b[0m",
      "\u001b[0;31mcast\u001b[0m",
      "\u001b[0;31m\u001b[0m",
      "\u001b[0;31m  [0]  `tdetails insert (1042;150) / foreign-key value 1042 that does not appear in kt.\n                 ^\n\u001b[0m"
     ]
    }
   ],
   "source": [
    "kt:([eid:1001 1002 1003] name:`Dent`Beeblebrox`Prefect; iq:98 42 126)\n",
    "tdetails:([] eid:`kt$1003 1002 1001 1002 1001; sc:126 36 92 39 98)\n",
    "`tdetails insert (1002;42)\n",
    "`tdetails insert (1042;150) / foreign-key value 1042 that does not appear in kt."
   ]
  },
  {
   "cell_type": "markdown",
   "metadata": {},
   "source": [
    "### Insert into Keyed Tables\n",
    "\n",
    "You can use `insert` to append data to a keyed table, but this probably does not have the desired semantics. Specifically, you can insert into a keyed table only if the key value is **not** already in the table. For this and other reasons, `upsert` should normally be preferred over `insert`.\n",
    "\n",
    "Since a keyed table is a dictionary, to use `insert` we should properly provide a dictionary entry comprising a key record and a value record."
   ]
  },
  {
   "cell_type": "code",
   "execution_count": 11,
   "metadata": {
    "ExecuteTime": {
     "end_time": "2020-11-23T20:21:16.108130000Z",
     "start_time": "2020-11-23T20:21:15.181Z"
    }
   },
   "outputs": [
    {
     "data": {
      "text/plain": [
       ",2\n"
      ]
     },
     "execution_count": 12,
     "metadata": {},
     "output_type": "execute_result"
    },
    {
     "data": {
      "text/plain": [
       ",3\n"
      ]
     },
     "execution_count": 12,
     "metadata": {},
     "output_type": "execute_result"
    },
    {
     "ename": "\u001b[0;31minsert\u001b[0m",
     "evalue": "\u001b[0;31minsert\u001b[0m",
     "output_type": "error",
     "traceback": [
      "\u001b[0;31mevaluation error:\n\u001b[0m",
      "\u001b[0;31minsert\u001b[0m",
      "\u001b[0;31m\u001b[0m",
      "\u001b[0;31m  [0]  `kt insert (1004;`Marvin;200)\n           ^\n\u001b[0m"
     ]
    }
   ],
   "source": [
    "kt:([eid:1001 1002] name:`Dent`Beeblebrox; iq:98 42)\n",
    "`kt insert (1005; `Marvin; 200)\n",
    "`kt insert (1004;`Slartibartfast;158)\n",
    "`kt insert (1004;`Marvin;200)"
   ]
  },
  {
   "cell_type": "markdown",
   "metadata": {},
   "source": [
    "**The records in the keyed table are stored in insert order rather than key order.**"
   ]
  },
  {
   "cell_type": "code",
   "execution_count": 12,
   "metadata": {
    "ExecuteTime": {
     "end_time": "2020-11-23T20:21:16.108910000Z",
     "start_time": "2020-11-23T20:21:15.184Z"
    }
   },
   "outputs": [
    {
     "data": {
      "text/plain": [
       "eid | name           iq \n",
       "----| ------------------\n",
       "1001| Dent           98 \n",
       "1002| Beeblebrox     42 \n",
       "1005| Marvin         200\n",
       "1004| Slartibartfast 158\n"
      ]
     },
     "execution_count": 12,
     "metadata": {},
     "output_type": "execute_result"
    }
   ],
   "source": [
    "kt"
   ]
  },
  {
   "cell_type": "markdown",
   "metadata": {},
   "source": [
    "## `Upsert`"
   ]
  },
  {
   "cell_type": "markdown",
   "metadata": {},
   "source": [
    "###  `Upsert` Replacing `Insert`"
   ]
  },
  {
   "cell_type": "code",
   "execution_count": 13,
   "metadata": {
    "ExecuteTime": {
     "end_time": "2020-11-23T20:21:16.110437000Z",
     "start_time": "2020-11-23T20:21:15.185Z"
    }
   },
   "outputs": [
    {
     "data": {
      "text/plain": [
       "`t\n"
      ]
     },
     "execution_count": 13,
     "metadata": {},
     "output_type": "execute_result"
    },
    {
     "data": {
      "text/plain": [
       "`t\n"
      ]
     },
     "execution_count": 13,
     "metadata": {},
     "output_type": "execute_result"
    },
    {
     "data": {
      "text/plain": [
       "`t\n"
      ]
     },
     "execution_count": 13,
     "metadata": {},
     "output_type": "execute_result"
    },
    {
     "data": {
      "text/plain": [
       "`t\n"
      ]
     },
     "execution_count": 13,
     "metadata": {},
     "output_type": "execute_result"
    }
   ],
   "source": [
    "t:([] name:`Dent`Beeblebrox`Prefect; iq:42 98 126)\n",
    "`t upsert (`name`iq)!(`Slartibartfast; 134)\n",
    "`t upsert (`Marvin; 150)\n",
    "`t upsert ([] name:`Slartibartfast`Marvin; iq:134 200)\n",
    "t:3#t\n",
    "upsert[`t;(`Slartibartfast; 134)]"
   ]
  },
  {
   "cell_type": "markdown",
   "metadata": {},
   "source": [
    "**Tip**\n",
    "\n",
    "To bulk upsert naked field values, use **rows** instead of columns."
   ]
  },
  {
   "cell_type": "code",
   "execution_count": 14,
   "metadata": {
    "ExecuteTime": {
     "end_time": "2020-11-23T20:21:16.111162000Z",
     "start_time": "2020-11-23T20:21:15.187Z"
    }
   },
   "outputs": [
    {
     "data": {
      "text/plain": [
       "name           iq \n",
       "------------------\n",
       "Dent           42 \n",
       "Beeblebrox     98 \n",
       "Prefect        126\n",
       "Slartibartfast 134\n",
       "Prefect        126\n",
       "Marvin         200\n"
      ]
     },
     "execution_count": 14,
     "metadata": {},
     "output_type": "execute_result"
    }
   ],
   "source": [
    "t upsert ((`Prefect; 126); (`Marvin; 200))"
   ]
  },
  {
   "cell_type": "markdown",
   "metadata": {},
   "source": [
    "### Upsert by Name"
   ]
  },
  {
   "cell_type": "markdown",
   "metadata": {},
   "source": [
    "A limitation of `insert` is that it uses **pass-by-name**, so it can only operate against global tables. In contrast, `upsert` supports both **pass-by-name and pass-by-value**. Thus it can be used with anonymous or local tables."
   ]
  },
  {
   "cell_type": "code",
   "execution_count": 15,
   "metadata": {
    "ExecuteTime": {
     "end_time": "2020-11-23T20:21:16.112122000Z",
     "start_time": "2020-11-23T20:21:15.189Z"
    }
   },
   "outputs": [
    {
     "data": {
      "text/plain": [
       "c1 c2\n",
       "-----\n",
       "a  10\n",
       "b  20\n",
       "c  30\n"
      ]
     },
     "execution_count": 15,
     "metadata": {},
     "output_type": "execute_result"
    },
    {
     "data": {
      "text/plain": [
       "c1 c2\n",
       "-----\n",
       "a  10\n",
       "b  20\n",
       "c  30\n"
      ]
     },
     "execution_count": 15,
     "metadata": {},
     "output_type": "execute_result"
    }
   ],
   "source": [
    "([] c1:`a`b; c2:10 20) upsert (`c; 30)\n",
    "f:{t:([] c1:`a`b; c2:10 20); t upsert x}\n",
    "f (`c; 30)"
   ]
  },
  {
   "cell_type": "markdown",
   "metadata": {},
   "source": [
    "### Upsert on Keyed Tables\n",
    "\n",
    "Update \"duplicated\" keys"
   ]
  },
  {
   "cell_type": "code",
   "execution_count": 16,
   "metadata": {
    "ExecuteTime": {
     "end_time": "2020-11-23T20:21:16.113819000Z",
     "start_time": "2020-11-23T20:21:15.190Z"
    }
   },
   "outputs": [
    {
     "data": {
      "text/plain": [
       "`kt\n"
      ]
     },
     "execution_count": 16,
     "metadata": {},
     "output_type": "execute_result"
    },
    {
     "data": {
      "text/plain": [
       "`kt\n"
      ]
     },
     "execution_count": 16,
     "metadata": {},
     "output_type": "execute_result"
    },
    {
     "data": {
      "text/plain": [
       "eid | name           iq \n",
       "----| ------------------\n",
       "1001| Beeblebrox     42 \n",
       "1002| Beeblebrox     42 \n",
       "1005| Marvin         200\n",
       "1004| Slartibartfast 158\n"
      ]
     },
     "execution_count": 16,
     "metadata": {},
     "output_type": "execute_result"
    }
   ],
   "source": [
    "`kt upsert (1001; `Beeblebrox; 42)\n",
    "`kt upsert (1001; `Beeblebrox; 42)\n",
    "kt"
   ]
  },
  {
   "cell_type": "markdown",
   "metadata": {},
   "source": [
    "### Upsert on Persisted Tables\n",
    "\n",
    "Upserting to a splayed table does **not** read the persisted image into memory; rather, it appends to the ends of the column files. This allows incremental creation of large splayed (or partitioned) tables by upserting chunks that comfortably fit into memory.\n",
    "\n",
    "**Upserting to a table in either form will destroy any attributes on table columns. You will have to reapply them.**"
   ]
  },
  {
   "cell_type": "markdown",
   "metadata": {},
   "source": [
    "## The `select` Template\n",
    "\n",
    "**The result of `select` is always a table.**"
   ]
  },
  {
   "cell_type": "markdown",
   "metadata": {},
   "source": [
    "### Syntax\n",
    "\n",
    "The `select` template has the following form, where elements enclosed in matching angle brackets `<...>` are optional.\n",
    "\n",
    "`select` $<p_s>$ <`by` $p_b$> `from` $t_{exp}$ <`where` $p_w$>\n",
    "\n",
    "The `select` and `from` keywords are required; omission or mistyping either results in an error. The table expression $t_{exp}$, which is any q expression whose value is a table or keyed table, is also required. The remaining elements $p_s$, $p_b$ and $p_w$ are optional. They are called the Select, the By and the Where phrases, respectively.\n",
    "\n",
    "**Tip**\n",
    "If `where` is present and $t_{exp}$ is itself a select expression, the inner expression should be enclosed in parentheses to avoid confusion in the binding of the Where phrase."
   ]
  },
  {
   "cell_type": "markdown",
   "metadata": {},
   "source": [
    "**Commas**\n",
    "\n",
    "**The commas separating the subphrases are separators**, so it is not necessary to enclose a subphrase in parentheses unless the expression contains the Join operator `,`. Any expression containing the operator , within any template phrase must be **enclosed in parentheses or it will be interpreted as the separator**. Forgetting this is both easy and painful."
   ]
  },
  {
   "cell_type": "markdown",
   "metadata": {},
   "source": [
    "The order of evaluation of the `select` template is:\n",
    "1. From expression $t_{exp}$\n",
    "2. Where phrase $p_w$\n",
    "3. By phrase $p_b$\n",
    "4. Select phrase $p_s$"
   ]
  },
  {
   "cell_type": "markdown",
   "metadata": {},
   "source": [
    "### The Select Phrase"
   ]
  },
  {
   "cell_type": "code",
   "execution_count": 17,
   "metadata": {
    "ExecuteTime": {
     "end_time": "2020-11-23T20:21:16.114763000Z",
     "start_time": "2020-11-23T20:21:15.193Z"
    }
   },
   "outputs": [
    {
     "data": {
      "text/plain": [
       "1b\n"
      ]
     },
     "execution_count": 17,
     "metadata": {},
     "output_type": "execute_result"
    }
   ],
   "source": [
    "t:([] c1:`a`b`c; c2:10 20 30; c3:1.1 2.2 3.3)\n",
    "t ~ select from t"
   ]
  },
  {
   "cell_type": "code",
   "execution_count": 18,
   "metadata": {
    "ExecuteTime": {
     "end_time": "2020-11-23T20:21:16.115622000Z",
     "start_time": "2020-11-23T20:21:15.194Z"
    }
   },
   "outputs": [
    {
     "data": {
      "text/plain": [
       "c1 c3 \n",
       "------\n",
       "a  1.1\n",
       "b  2.2\n",
       "c  3.3\n"
      ]
     },
     "execution_count": 18,
     "metadata": {},
     "output_type": "execute_result"
    }
   ],
   "source": [
    "select c1, c3 from t"
   ]
  },
  {
   "cell_type": "markdown",
   "metadata": {},
   "source": [
    "#### Result Column Names\n",
    "\n",
    "- The colon used to specify a name is **not** assignment; it is simply part of the syntax of the template.\n",
    "- Just as with the use of colon in a variable assignment, the column name is part of the syntactic sugar. It is not a symbol and **cannot** be parameterized. Use functional form if you need this – see §9.12.\n",
    "- Unlike in SQL, columns in the Select phrase do not actually exist until the final result table is returned. Thus a computed column **cannot** be used in other column expressions.\n",
    "\n",
    "If you do not provide a name for a computed column, q determines one.\n",
    "\n",
    "- Normally the name is taken from the left-most term in the column expression.\n",
    "- When q cannot determine a name it uses x.\n",
    "- If q’s chosen name duplicates a previously determined column name, **it will suffix it with 1, 2**, etc. to make it unique. Recall that columns are sequenced from left to right."
   ]
  },
  {
   "cell_type": "code",
   "execution_count": 19,
   "metadata": {
    "ExecuteTime": {
     "end_time": "2020-11-23T20:21:16.116507000Z",
     "start_time": "2020-11-23T20:21:15.197Z"
    }
   },
   "outputs": [
    {
     "data": {
      "text/plain": [
       "c1 res\n",
       "------\n",
       "a  20 \n",
       "b  40 \n",
       "c  60 \n"
      ]
     },
     "execution_count": 19,
     "metadata": {},
     "output_type": "execute_result"
    }
   ],
   "source": [
    "select c1, res:2*c2 from t"
   ]
  },
  {
   "cell_type": "code",
   "execution_count": 20,
   "metadata": {
    "ExecuteTime": {
     "end_time": "2020-11-23T20:21:16.117634000Z",
     "start_time": "2020-11-23T20:21:15.199Z"
    }
   },
   "outputs": [
    {
     "data": {
      "text/plain": [
       "c1 c11 x  c2   c3   \n",
       "--------------------\n",
       "a  a   20 11.1 \"1.1\"\n",
       "b  b   40 22.2 \"2.2\"\n",
       "c  c   60 33.3 \"3.3\"\n"
      ]
     },
     "execution_count": 20,
     "metadata": {},
     "output_type": "execute_result"
    }
   ],
   "source": [
    "select c1, c1, 2*c2, c2+c3, string c3 from t"
   ]
  },
  {
   "cell_type": "markdown",
   "metadata": {},
   "source": [
    "#### The Virtual Column `i`"
   ]
  },
  {
   "cell_type": "markdown",
   "metadata": {},
   "source": [
    "A virtual column `i` represents the offset of each record in the table – i.e., `i` is the row number. It is implicitly available in the Select phrase."
   ]
  },
  {
   "cell_type": "code",
   "execution_count": 21,
   "metadata": {
    "ExecuteTime": {
     "end_time": "2020-11-23T20:21:16.118480000Z",
     "start_time": "2020-11-23T20:21:15.202Z"
    }
   },
   "outputs": [
    {
     "data": {
      "text/plain": [
       "x c1\n",
       "----\n",
       "0 a \n",
       "1 b \n",
       "2 c \n"
      ]
     },
     "execution_count": 21,
     "metadata": {},
     "output_type": "execute_result"
    }
   ],
   "source": [
    "select i, c1 from t"
   ]
  },
  {
   "cell_type": "markdown",
   "metadata": {},
   "source": [
    "**Tip**\n",
    "\n",
    "You can name the result column `ix` to avoid confusion with the always-present virtual column `i`"
   ]
  },
  {
   "cell_type": "code",
   "execution_count": 22,
   "metadata": {
    "ExecuteTime": {
     "end_time": "2020-11-23T20:21:16.119321000Z",
     "start_time": "2020-11-23T20:21:15.203Z"
    }
   },
   "outputs": [
    {
     "data": {
      "text/plain": [
       "ix c1\n",
       "-----\n",
       "0  a \n",
       "1  b \n",
       "2  c \n"
      ]
     },
     "execution_count": 22,
     "metadata": {},
     "output_type": "execute_result"
    }
   ],
   "source": [
    "select ix:i, c1 from t"
   ]
  },
  {
   "cell_type": "markdown",
   "metadata": {},
   "source": [
    "#### `select` `distinct`"
   ]
  },
  {
   "cell_type": "code",
   "execution_count": 23,
   "metadata": {
    "ExecuteTime": {
     "end_time": "2020-11-23T20:21:16.120077000Z",
     "start_time": "2020-11-23T20:21:15.205Z"
    }
   },
   "outputs": [
    {
     "data": {
      "text/plain": [
       "c1 c2\n",
       "-----\n",
       "a  10\n",
       "b  20\n"
      ]
     },
     "execution_count": 23,
     "metadata": {},
     "output_type": "execute_result"
    }
   ],
   "source": [
    "select distinct from ([] c1:`a`b`a; c2:10 20 10)"
   ]
  },
  {
   "cell_type": "markdown",
   "metadata": {},
   "source": [
    "#### `select []` "
   ]
  },
  {
   "cell_type": "markdown",
   "metadata": {},
   "source": [
    "You can return the first or last n records in a select by using function parameter syntax after `select`. A positive integer parameter returns the first records, a negative parameter the last."
   ]
  },
  {
   "cell_type": "code",
   "execution_count": 24,
   "metadata": {
    "ExecuteTime": {
     "end_time": "2020-11-23T20:21:16.121146000Z",
     "start_time": "2020-11-23T20:21:15.207Z"
    }
   },
   "outputs": [
    {
     "data": {
      "text/plain": [
       "s | name  status city  \n",
       "--| -------------------\n",
       "s1| smith 20     london\n",
       "s2| jones 10     paris \n"
      ]
     },
     "execution_count": 24,
     "metadata": {},
     "output_type": "execute_result"
    },
    {
     "data": {
      "text/plain": [
       "s | name  status city  \n",
       "--| -------------------\n",
       "s4| clark 20     london\n"
      ]
     },
     "execution_count": 24,
     "metadata": {},
     "output_type": "execute_result"
    }
   ],
   "source": [
    "select[2] from s where city<>`athens\n",
    "select[-1] from s where city<>`athens"
   ]
  },
  {
   "cell_type": "markdown",
   "metadata": {},
   "source": [
    "This syntax is extended to `select[n m]` where `n` is the starting row number and `m` is the number of rows."
   ]
  },
  {
   "cell_type": "code",
   "execution_count": 25,
   "metadata": {
    "ExecuteTime": {
     "end_time": "2020-11-23T20:21:43.195363000Z",
     "start_time": "2020-11-23T20:21:43.188Z"
    }
   },
   "outputs": [
    {
     "data": {
      "text/plain": [
       "s | name  status city \n",
       "--| ------------------\n",
       "s2| jones 10     paris\n",
       "s3| blake 30     paris\n"
      ]
     },
     "execution_count": 25,
     "metadata": {},
     "output_type": "execute_result"
    }
   ],
   "source": [
    "select[1 2] from s where city<>`athens"
   ]
  },
  {
   "cell_type": "markdown",
   "metadata": {},
   "source": [
    "One final extension of the syntax specifies a sorting criterion inside the brackets. For ascending sort, place `<` before a column name and for descending sort use `>`"
   ]
  },
  {
   "cell_type": "code",
   "execution_count": 26,
   "metadata": {
    "ExecuteTime": {
     "end_time": "2020-11-23T20:22:31.844199000Z",
     "start_time": "2020-11-23T20:22:31.832Z"
    }
   },
   "outputs": [
    {
     "data": {
      "text/plain": [
       "s | name  status city  \n",
       "--| -------------------\n",
       "s1| smith 20     london\n",
       "s2| jones 10     paris \n",
       "s4| clark 20     london\n",
       "s3| blake 30     paris \n"
      ]
     },
     "execution_count": 26,
     "metadata": {},
     "output_type": "execute_result"
    },
    {
     "data": {
      "text/plain": [
       "s | name  status city  \n",
       "--| -------------------\n",
       "s1| smith 20     london\n",
       "s4| clark 20     london\n",
       "s2| jones 10     paris \n",
       "s3| blake 30     paris \n"
      ]
     },
     "execution_count": 26,
     "metadata": {},
     "output_type": "execute_result"
    }
   ],
   "source": [
    "select[>name] from s where city<>`athens\n",
    "select[<city] from s where city<>`athens"
   ]
  },
  {
   "cell_type": "markdown",
   "metadata": {},
   "source": [
    "You can combine the two syntax extensions by separating them with a semicolon.\n",
    "\n",
    "**The items inside the brackets must be in this order.**"
   ]
  },
  {
   "cell_type": "code",
   "execution_count": 27,
   "metadata": {
    "ExecuteTime": {
     "end_time": "2020-11-23T20:23:17.563071000Z",
     "start_time": "2020-11-23T20:23:17.553Z"
    }
   },
   "outputs": [
    {
     "data": {
      "text/plain": [
       "s | name  status city  \n",
       "--| -------------------\n",
       "s1| smith 20     london\n",
       "s2| jones 10     paris \n"
      ]
     },
     "execution_count": 27,
     "metadata": {},
     "output_type": "execute_result"
    }
   ],
   "source": [
    "select[2; >name] from s where city<>`athens"
   ]
  },
  {
   "cell_type": "markdown",
   "metadata": {},
   "source": [
    "#### Select on Nested Columns"
   ]
  },
  {
   "cell_type": "code",
   "execution_count": 28,
   "metadata": {
    "ExecuteTime": {
     "end_time": "2020-11-23T20:23:47.587531000Z",
     "start_time": "2020-11-23T20:23:47.579Z"
    }
   },
   "outputs": [
    {
     "name": "stdout",
     "output_type": "stream",
     "text": [
      "c1 c2      \n",
      "-----------\n",
      "a  10 20 30\n",
      "b  ,40     \n",
      "c  50 60   \n"
     ]
    }
   ],
   "source": [
    "show tnest:([] c1:`a`b`c; c2:(10 20 30; enlist 40; 50 60))"
   ]
  },
  {
   "cell_type": "markdown",
   "metadata": {},
   "source": [
    "We **cannot** apply an aggregate or uniform operation straight to c2 since the fields do not conform."
   ]
  },
  {
   "cell_type": "code",
   "execution_count": 28,
   "metadata": {
    "ExecuteTime": {
     "end_time": "2020-11-23T20:24:32.156271000Z",
     "start_time": "2020-11-23T20:24:32.147Z"
    }
   },
   "outputs": [
    {
     "ename": "\u001b[0;31mlength\u001b[0m",
     "evalue": "\u001b[0;31mlength\u001b[0m",
     "output_type": "error",
     "traceback": [
      "\u001b[0;31mevaluation error:\n\u001b[0m",
      "\u001b[0;31mlength\u001b[0m",
      "\u001b[0;31m\u001b[0m",
      "\u001b[0;31m  [0]  select avg c2 from tnest\n              ^\n\u001b[0m"
     ]
    }
   ],
   "source": [
    "select avg c2 from tnest"
   ]
  },
  {
   "cell_type": "markdown",
   "metadata": {},
   "source": [
    "We **can** apply an **aggregate or uniform function** to each field of c2 in tnest."
   ]
  },
  {
   "cell_type": "code",
   "execution_count": 29,
   "metadata": {
    "ExecuteTime": {
     "end_time": "2020-11-23T20:24:37.460996000Z",
     "start_time": "2020-11-23T20:24:37.449Z"
    }
   },
   "outputs": [
    {
     "data": {
      "text/plain": [
       "c2\n",
       "--\n",
       "20\n",
       "40\n",
       "55\n"
      ]
     },
     "execution_count": 29,
     "metadata": {},
     "output_type": "execute_result"
    }
   ],
   "source": [
    "select avg each c2 from tnest"
   ]
  },
  {
   "cell_type": "markdown",
   "metadata": {},
   "source": [
    "Similarly we can use Each to compute a weighted average using two columns."
   ]
  },
  {
   "cell_type": "code",
   "execution_count": 30,
   "metadata": {
    "ExecuteTime": {
     "end_time": "2020-11-23T20:25:58.217748000Z",
     "start_time": "2020-11-23T20:25:58.208Z"
    }
   },
   "outputs": [
    {
     "data": {
      "text/plain": [
       "`tnest\n"
      ]
     },
     "execution_count": 30,
     "metadata": {},
     "output_type": "execute_result"
    },
    {
     "data": {
      "text/plain": [
       "c1 c2       c3         \n",
       "-----------------------\n",
       "a  10 20 30 1.1 2.2 3.3\n",
       "b  ,40      ,4.4       \n",
       "c  50 60    5.5 6.6    \n"
      ]
     },
     "execution_count": 30,
     "metadata": {},
     "output_type": "execute_result"
    }
   ],
   "source": [
    "update c3:(1.1 2.2 3.3; enlist 4.4; 5.5 6.6) from `tnest\n",
    "tnest"
   ]
  },
  {
   "cell_type": "code",
   "execution_count": 31,
   "metadata": {
    "ExecuteTime": {
     "end_time": "2020-11-23T20:26:08.126731000Z",
     "start_time": "2020-11-23T20:26:08.119Z"
    }
   },
   "outputs": [
    {
     "data": {
      "text/plain": [
       "wtavg   \n",
       "--------\n",
       "2.566667\n",
       "4.4     \n",
       "6.1     \n"
      ]
     },
     "execution_count": 31,
     "metadata": {},
     "output_type": "execute_result"
    }
   ],
   "source": [
    "select wtavg:c2 wavg' c3 from tnest"
   ]
  },
  {
   "cell_type": "markdown",
   "metadata": {},
   "source": [
    "###  Filtering with `where`"
   ]
  },
  {
   "cell_type": "markdown",
   "metadata": {},
   "source": [
    "#### Basic where"
   ]
  },
  {
   "cell_type": "code",
   "execution_count": 32,
   "metadata": {
    "ExecuteTime": {
     "end_time": "2020-11-23T20:27:29.464151000Z",
     "start_time": "2020-11-23T20:27:29.455Z"
    }
   },
   "outputs": [
    {
     "data": {
      "text/plain": [
       "c1 c2 c3 \n",
       "---------\n",
       "b  20 2.2\n",
       "c  30 3.3\n"
      ]
     },
     "execution_count": 32,
     "metadata": {},
     "output_type": "execute_result"
    },
    {
     "data": {
      "text/plain": [
       "c1 c2 c3 \n",
       "---------\n",
       "b  20 2.2\n",
       "c  30 3.3\n"
      ]
     },
     "execution_count": 32,
     "metadata": {},
     "output_type": "execute_result"
    }
   ],
   "source": [
    "t:([] c1:`a`b`c; c2:10 20 30; c3:1.1 2.2 3.3)\n",
    "t where t[`c2]>15\n",
    "select from t where c2>15"
   ]
  },
  {
   "cell_type": "code",
   "execution_count": 33,
   "metadata": {
    "ExecuteTime": {
     "end_time": "2020-11-23T20:27:38.462477000Z",
     "start_time": "2020-11-23T20:27:38.454Z"
    }
   },
   "outputs": [
    {
     "data": {
      "text/plain": [
       "c1 c2 c3 \n",
       "---------\n",
       "b  20 2.2\n",
       "c  30 3.3\n"
      ]
     },
     "execution_count": 33,
     "metadata": {},
     "output_type": "execute_result"
    }
   ],
   "source": [
    "select from t where 011b"
   ]
  },
  {
   "cell_type": "markdown",
   "metadata": {},
   "source": [
    "#### The Virtual Column `i` in `where`"
   ]
  },
  {
   "cell_type": "code",
   "execution_count": 34,
   "metadata": {
    "ExecuteTime": {
     "end_time": "2020-11-23T20:28:07.298119000Z",
     "start_time": "2020-11-23T20:28:07.289Z"
    }
   },
   "outputs": [
    {
     "data": {
      "text/plain": [
       "c1 c2 c3 \n",
       "---------\n",
       "c  30 3.3\n",
       "a  10 1.1\n",
       "b  20 2.2\n",
       "c  30 3.3\n",
       "a  10 1.1\n",
       "b  20 2.2\n",
       "c  30 3.3\n",
       "a  10 1.1\n",
       "b  20 2.2\n",
       "c  30 3.3\n",
       "a  10 1.1\n",
       "b  20 2.2\n",
       "c  30 3.3\n",
       "a  10 1.1\n",
       "b  20 2.2\n",
       "c  30 3.3\n",
       "a  10 1.1\n",
       "b  20 2.2\n",
       "c  30 3.3\n",
       "a  10 1.1\n",
       "..\n"
      ]
     },
     "execution_count": 34,
     "metadata": {},
     "output_type": "execute_result"
    }
   ],
   "source": [
    "tbig:100#t\n",
    "select from tbig where i within 50 99"
   ]
  },
  {
   "cell_type": "markdown",
   "metadata": {},
   "source": [
    "To use this construct with non-literal values as the endpoints, you **must** use general-list notation, since simple-list notation cannot be used with variables."
   ]
  },
  {
   "cell_type": "code",
   "execution_count": 35,
   "metadata": {
    "ExecuteTime": {
     "end_time": "2020-11-23T21:21:04.140567000Z",
     "start_time": "2020-11-23T21:21:04.133Z"
    }
   },
   "outputs": [
    {
     "data": {
      "text/plain": [
       "c1 c2 c3 \n",
       "---------\n",
       "c  30 3.3\n",
       "a  10 1.1\n",
       "b  20 2.2\n",
       "c  30 3.3\n",
       "a  10 1.1\n",
       "b  20 2.2\n",
       "c  30 3.3\n",
       "a  10 1.1\n",
       "b  20 2.2\n",
       "c  30 3.3\n",
       "a  10 1.1\n",
       "b  20 2.2\n",
       "c  30 3.3\n",
       "a  10 1.1\n",
       "b  20 2.2\n",
       "c  30 3.3\n",
       "a  10 1.1\n",
       "b  20 2.2\n",
       "c  30 3.3\n",
       "a  10 1.1\n",
       "..\n"
      ]
     },
     "execution_count": 35,
     "metadata": {},
     "output_type": "execute_result"
    }
   ],
   "source": [
    "s:50\n",
    "e:99\n",
    "select from tbig where i within (s;e)"
   ]
  },
  {
   "cell_type": "markdown",
   "metadata": {},
   "source": [
    "#### Multiple Where Subphrases\n",
    "\n",
    "**Place the most limiting where subphrase first, followed by others in decreasing strictness.**"
   ]
  },
  {
   "cell_type": "code",
   "execution_count": 36,
   "metadata": {
    "ExecuteTime": {
     "end_time": "2020-11-23T21:23:00.600483000Z",
     "start_time": "2020-11-23T21:23:00.546Z"
    }
   },
   "outputs": [
    {
     "data": {
      "text/plain": [
       "0\n"
      ]
     },
     "execution_count": 36,
     "metadata": {},
     "output_type": "execute_result"
    }
   ],
   "source": [
    "t:([] c1:00:00:00.000+til 1000000;c2:1000000?`a`b;c3:1000000?100.)\n",
    "\\t select from t where c1 within 00:00:01.000 00:00:01.999, c2=`a"
   ]
  },
  {
   "cell_type": "code",
   "execution_count": 37,
   "metadata": {
    "ExecuteTime": {
     "end_time": "2020-11-23T21:23:02.157503000Z",
     "start_time": "2020-11-23T21:23:02.152Z"
    }
   },
   "outputs": [
    {
     "data": {
      "text/plain": [
       "2\n"
      ]
     },
     "execution_count": 37,
     "metadata": {},
     "output_type": "execute_result"
    }
   ],
   "source": [
    "\\t select from t where c2=`a, c1 within 00:00:01.000 00:00:01.999"
   ]
  },
  {
   "cell_type": "markdown",
   "metadata": {},
   "source": [
    "#### Nested Columns in Where\n",
    "\n",
    "\n",
    "Nested columns generally require iterators, and the Where phrase is no different. A common mistake made by qbies is, when trying to find a specific string in a column of strings, they forget that strings are not first-class in q."
   ]
  },
  {
   "cell_type": "code",
   "execution_count": 37,
   "metadata": {
    "ExecuteTime": {
     "end_time": "2020-11-23T21:25:42.875367000Z",
     "start_time": "2020-11-23T21:25:42.873Z"
    }
   },
   "outputs": [
    {
     "ename": "\u001b[0;31mlength\u001b[0m",
     "evalue": "\u001b[0;31mlength\u001b[0m",
     "output_type": "error",
     "traceback": [
      "\u001b[0;31mevaluation error:\n\u001b[0m",
      "\u001b[0;31mlength\u001b[0m",
      "\u001b[0;31m\u001b[0m",
      "\u001b[0;31m  [0]  select from t where s=\"ef\"\n                             ^\n\u001b[0m"
     ]
    }
   ],
   "source": [
    "t:([] f:1.1 2.2 3.3; s:(\"abc\";enlist \"d\";\"ef\"))\n",
    "select from t where s=\"ef\" /atomic equality between a simple list and a nested list"
   ]
  },
  {
   "cell_type": "code",
   "execution_count": 38,
   "metadata": {
    "ExecuteTime": {
     "end_time": "2020-11-23T21:25:51.856306000Z",
     "start_time": "2020-11-23T21:25:51.854Z"
    }
   },
   "outputs": [
    {
     "data": {
      "text/plain": [
       "f s\n",
       "---\n"
      ]
     },
     "execution_count": 38,
     "metadata": {},
     "output_type": "execute_result"
    }
   ],
   "source": [
    "select from t where s~\"ef\" /if the entire column matches the specified string"
   ]
  },
  {
   "cell_type": "code",
   "execution_count": 39,
   "metadata": {
    "ExecuteTime": {
     "end_time": "2020-11-23T21:25:59.409758000Z",
     "start_time": "2020-11-23T21:25:59.407Z"
    }
   },
   "outputs": [
    {
     "data": {
      "text/plain": [
       "f   s   \n",
       "--------\n",
       "3.3 \"ef\"\n"
      ]
     },
     "execution_count": 39,
     "metadata": {},
     "output_type": "execute_result"
    }
   ],
   "source": [
    "select from t where s~\\:\"ef\" /tests the specified string for match against each string in the column."
   ]
  },
  {
   "cell_type": "markdown",
   "metadata": {},
   "source": [
    "For matching strings, the `like` operator is **more efficient.**"
   ]
  },
  {
   "cell_type": "code",
   "execution_count": 40,
   "metadata": {
    "ExecuteTime": {
     "end_time": "2020-11-23T21:27:25.037152000Z",
     "start_time": "2020-11-23T21:27:25.029Z"
    }
   },
   "outputs": [
    {
     "data": {
      "text/plain": [
       "f   s   \n",
       "--------\n",
       "3.3 \"ef\"\n"
      ]
     },
     "execution_count": 40,
     "metadata": {},
     "output_type": "execute_result"
    }
   ],
   "source": [
    "select from t where s like \"ef\""
   ]
  },
  {
   "cell_type": "markdown",
   "metadata": {},
   "source": [
    "#### `fby` i Where\n",
    "\n",
    "form $(f_{agg}; expr_{col})$ `fby` c\n",
    "\n",
    "The left operand is a two-item list comprising an aggregate function $f_{agg}$ and a column expression $expr_{col}$ on which the function will be applied. The right operand c is the column to be grouped."
   ]
  },
  {
   "cell_type": "code",
   "execution_count": 41,
   "metadata": {
    "ExecuteTime": {
     "end_time": "2020-11-23T21:28:14.548891000Z",
     "start_time": "2020-11-23T21:28:14.546Z"
    }
   },
   "outputs": [
    {
     "data": {
      "text/plain": [
       "city  | weight\n",
       "------| ------\n",
       "london| 19    \n",
       "paris | 17    \n",
       "rome  | 17    \n"
      ]
     },
     "execution_count": 41,
     "metadata": {},
     "output_type": "execute_result"
    }
   ],
   "source": [
    "select max weight by city from p"
   ]
  },
  {
   "cell_type": "code",
   "execution_count": 42,
   "metadata": {
    "ExecuteTime": {
     "end_time": "2020-11-23T21:39:08.891820000Z",
     "start_time": "2020-11-23T21:39:08.890Z"
    }
   },
   "outputs": [
    {
     "data": {
      "text/plain": [
       "p | name  color weight city  \n",
       "--| -------------------------\n",
       "p2| bolt  green 17     paris \n",
       "p3| screw blue  17     rome  \n",
       "p6| cog   red   19     london\n"
      ]
     },
     "execution_count": 42,
     "metadata": {},
     "output_type": "execute_result"
    }
   ],
   "source": [
    "select from p where weight=(max;weight) fby city"
   ]
  },
  {
   "cell_type": "code",
   "execution_count": 43,
   "metadata": {
    "ExecuteTime": {
     "end_time": "2020-11-23T21:39:49.203940000Z",
     "start_time": "2020-11-23T21:39:49.196Z"
    }
   },
   "outputs": [
    {
     "data": {
      "text/plain": [
       "p | name  color weight city\n",
       "--| -----------------------\n",
       "p3| screw blue  17     rome\n"
      ]
     },
     "execution_count": 43,
     "metadata": {},
     "output_type": "execute_result"
    }
   ],
   "source": [
    "select from p where weight=(max;weight) fby city,color=`blue"
   ]
  },
  {
   "cell_type": "markdown",
   "metadata": {},
   "source": [
    "To group on multiple columns, **encapsulate them in an anonymous table** in the right operand of `fby`."
   ]
  },
  {
   "cell_type": "code",
   "execution_count": 44,
   "metadata": {
    "ExecuteTime": {
     "end_time": "2020-11-23T21:40:51.641332000Z",
     "start_time": "2020-11-23T21:40:51.633Z"
    }
   },
   "outputs": [
    {
     "data": {
      "text/plain": [
       "sym  ex time     price\n",
       "----------------------\n",
       "IBM  N  12:10:00 82.1 \n",
       "IBM  O  12:30:00 81.95\n",
       "MSFT N  12:45:00 23.45\n"
      ]
     },
     "execution_count": 44,
     "metadata": {},
     "output_type": "execute_result"
    }
   ],
   "source": [
    "t:([]sym:`IBM`IBM`MSFT`IBM`MSFT;\n",
    "    ex:`N`O`N`N`N;\n",
    "    time:12:10:00 12:30:00 12:45:00 12:50:00 13:30:00;\n",
    "    price:82.1 81.95 23.45 82.05 23.40)\n",
    "select from t where price=(max;price) fby ([]sym;ex)"
   ]
  },
  {
   "cell_type": "markdown",
   "metadata": {},
   "source": [
    "### Grouping and Aggregation\n",
    "\n",
    "In contrast to SQL, where grouping and aggregation are performed together, in q-sql they are independent. "
   ]
  },
  {
   "cell_type": "markdown",
   "metadata": {},
   "source": [
    "#### Aggregation without Grouping"
   ]
  },
  {
   "cell_type": "code",
   "execution_count": 45,
   "metadata": {
    "ExecuteTime": {
     "end_time": "2020-11-23T21:42:13.253012000Z",
     "start_time": "2020-11-23T21:42:13.248Z"
    }
   },
   "outputs": [
    {
     "data": {
      "text/plain": [
       "total mean    \n",
       "--------------\n",
       "3100  258.3333\n"
      ]
     },
     "execution_count": 45,
     "metadata": {},
     "output_type": "execute_result"
    }
   ],
   "source": [
    "select total:sum qty, mean:avg qty from sp"
   ]
  },
  {
   "cell_type": "markdown",
   "metadata": {},
   "source": [
    "#### Grouping without Aggregation\n",
    "\n",
    "Grouping without aggregation is the most common way qbies unintentionally create nested columns. Nested columns are slower, more cumbersome to use (they require a heavy dose of iterators) and are usually unnecessary. And you can’t just cast a nested column to a simple one; you must apply an aggregate or some other operation that flattens a list."
   ]
  },
  {
   "cell_type": "code",
   "execution_count": 46,
   "metadata": {
    "ExecuteTime": {
     "end_time": "2020-11-23T21:42:44.472736000Z",
     "start_time": "2020-11-23T21:42:44.463Z"
    }
   },
   "outputs": [
    {
     "data": {
      "text/plain": [
       "a| 10 30\n",
       "b| 20 40\n",
       "c| ,50\n"
      ]
     },
     "execution_count": 46,
     "metadata": {},
     "output_type": "execute_result"
    },
    {
     "data": {
      "text/plain": [
       "c1| c2   \n",
       "--| -----\n",
       "a | 10 30\n",
       "b | 20 40\n",
       "c | ,50  \n"
      ]
     },
     "execution_count": 46,
     "metadata": {},
     "output_type": "execute_result"
    }
   ],
   "source": [
    "t:([] c1:`a`b`a`b`c; c2:10 20 30 40 50)\n",
    "t[`c2] group t[`c1]\n",
    "select c2 by c1 from t"
   ]
  },
  {
   "cell_type": "markdown",
   "metadata": {},
   "source": [
    "Observe that `ungroup` can be used to reverse the nested result of grouping without aggregation. It is not quite an inverse since it returns the original records ordered on the by column(s)."
   ]
  },
  {
   "cell_type": "code",
   "execution_count": 47,
   "metadata": {
    "ExecuteTime": {
     "end_time": "2020-11-23T21:44:13.418171000Z",
     "start_time": "2020-11-23T21:44:13.410Z"
    }
   },
   "outputs": [
    {
     "data": {
      "text/plain": [
       "c1 c2\n",
       "-----\n",
       "a  10\n",
       "a  30\n",
       "b  20\n",
       "b  40\n",
       "c  50\n"
      ]
     },
     "execution_count": 47,
     "metadata": {},
     "output_type": "execute_result"
    }
   ],
   "source": [
    "ungroup select c2 by c1 from t"
   ]
  },
  {
   "cell_type": "code",
   "execution_count": 48,
   "metadata": {
    "ExecuteTime": {
     "end_time": "2020-11-23T21:48:36.467080000Z",
     "start_time": "2020-11-23T21:48:36.459Z"
    }
   },
   "outputs": [
    {
     "data": {
      "text/plain": [
       "p | s          qty            \n",
       "--| --------------------------\n",
       "p1| `s!0 1     300 300        \n",
       "p2| `s!0 1 2 3 200 400 200 200\n",
       "p3| `s!,0      ,400           \n",
       "p4| `s!0 3     200 300        \n",
       "p5| `s!3 3     100 400        \n",
       "p6| `s!,0      ,100           \n"
      ]
     },
     "execution_count": 48,
     "metadata": {},
     "output_type": "execute_result"
    }
   ],
   "source": [
    "`p xgroup sp"
   ]
  },
  {
   "cell_type": "code",
   "execution_count": 50,
   "metadata": {
    "ExecuteTime": {
     "end_time": "2020-11-23T21:49:04.160117000Z",
     "start_time": "2020-11-23T21:49:04.158Z"
    }
   },
   "outputs": [
    {
     "data": {
      "text/plain": [
       "p  s qty\n",
       "--------\n",
       "p1 0 300\n",
       "p1 1 300\n",
       "p2 0 200\n",
       "p2 1 400\n",
       "p2 2 200\n",
       "p2 3 200\n",
       "p3 0 400\n",
       "p4 0 200\n",
       "p4 3 300\n",
       "p5 3 100\n",
       "p5 3 400\n",
       "p6 0 100\n"
      ]
     },
     "execution_count": 50,
     "metadata": {},
     "output_type": "execute_result"
    }
   ],
   "source": [
    "ungroup `p xgroup sp"
   ]
  },
  {
   "cell_type": "markdown",
   "metadata": {},
   "source": [
    "#### Grouping with Aggregation"
   ]
  },
  {
   "cell_type": "code",
   "execution_count": 51,
   "metadata": {
    "ExecuteTime": {
     "end_time": "2020-11-23T21:49:56.210699000Z",
     "start_time": "2020-11-23T21:49:56.208Z"
    }
   },
   "outputs": [
    {
     "data": {
      "text/plain": [
       "c1| c2\n",
       "--| --\n",
       "a | 40\n",
       "b | 60\n",
       "c | 50\n"
      ]
     },
     "execution_count": 51,
     "metadata": {},
     "output_type": "execute_result"
    },
    {
     "data": {
      "text/plain": [
       "desk acct| ct pnl \n",
       "---------| -------\n",
       "a    1   | 2  6.6 \n",
       "a    3   | 1  3.3 \n",
       "b    2   | 1  -2.2\n",
       "b    4   | 2  3.9 \n"
      ]
     },
     "execution_count": 51,
     "metadata": {},
     "output_type": "execute_result"
    }
   ],
   "source": [
    "select sum c2 by c1 from t\n",
    "t:([] desk:`a`b`a`b`a`b; acct:`1`2`3`4`1`4; pnl:1.1 -2.2 3.3 4.4 5.5 -.5)\n",
    "select ct:count desk, sum pnl by desk,acct from t"
   ]
  },
  {
   "cell_type": "code",
   "execution_count": 52,
   "metadata": {
    "ExecuteTime": {
     "end_time": "2020-11-23T21:51:17.133926000Z",
     "start_time": "2020-11-23T21:51:17.087Z"
    }
   },
   "outputs": [
    {
     "data": {
      "text/plain": [
       "c1           c2| c3      \n",
       "---------------| --------\n",
       "00:00:00.000 a | 49.44874\n",
       "00:00:00.000 b | 54.21254\n",
       "00:00:00.100 a | 45.59306\n",
       "00:00:00.100 b | 40.59436\n",
       "00:00:00.200 a | 45.99148\n",
       "00:00:00.200 b | 46.22362\n",
       "00:00:00.300 a | 50.10055\n",
       "00:00:00.300 b | 47.5136 \n",
       "00:00:00.400 a | 53.94542\n",
       "00:00:00.400 b | 50.41118\n",
       "00:00:00.500 a | 54.22142\n",
       "00:00:00.500 b | 46.36771\n",
       "00:00:00.600 a | 54.71282\n",
       "00:00:00.600 b | 51.86255\n",
       "00:00:00.700 a | 49.46785\n",
       "00:00:00.700 b | 47.42026\n",
       "00:00:00.800 a | 51.66804\n",
       "00:00:00.800 b | 50.77955\n",
       "00:00:00.900 a | 45.44763\n",
       "00:00:00.900 b | 61.34752\n",
       "..\n"
      ]
     },
     "execution_count": 52,
     "metadata": {},
     "output_type": "execute_result"
    }
   ],
   "source": [
    "t:([] c1:00:00:00.000+til 1000000;c2:1000000?`a`b;c3:1000000?100.)\n",
    "select avg c3 by 100 xbar c1, c2 from t"
   ]
  },
  {
   "cell_type": "markdown",
   "metadata": {},
   "source": [
    "**Tip**: In an unexpected special case of implicit grouping with aggregation, specifying a By phrase together with empty Select phrase is equivalent to applying last to all columns."
   ]
  },
  {
   "cell_type": "code",
   "execution_count": 53,
   "metadata": {
    "ExecuteTime": {
     "end_time": "2020-11-23T21:53:10.682196000Z",
     "start_time": "2020-11-23T21:53:10.680Z"
    }
   },
   "outputs": [
    {
     "data": {
      "text/plain": [
       "desk| acct pnl \n",
       "----| ---------\n",
       "a   | 1    5.5 \n",
       "b   | 4    -0.5\n"
      ]
     },
     "execution_count": 53,
     "metadata": {},
     "output_type": "execute_result"
    }
   ],
   "source": [
    "t:([] desk:`a`b`a`b`a`b; acct:`1`2`3`4`1`4; pnl:1.1 -2.2 3.3 4.4 5.5 -.5)\n",
    "select by desk from t"
   ]
  },
  {
   "cell_type": "markdown",
   "metadata": {},
   "source": [
    "## The `exec` Template\n",
    "\n",
    "The syntax of `exec` is identical to that of `select`\n",
    "\n",
    "`exec` $<p_s>$ <`by` $p_b$> `from` $t_{exp}$ <`where` $p_w$>\n",
    "\n",
    "\n",
    "Whereas `select` always returns a table, the result type of `exec` depends on the number of columns in its Select phrase. **One column yields a list; more than one column yields a dictionary.**"
   ]
  },
  {
   "cell_type": "code",
   "execution_count": 53,
   "metadata": {
    "ExecuteTime": {
     "end_time": "2020-11-23T21:56:02.090919000Z",
     "start_time": "2020-11-23T21:56:02.085Z"
    }
   },
   "outputs": [
    {
     "data": {
      "text/plain": [
       "name | `a`b`c`d`e\n",
       "state| `NY`FL`OH`HI\n"
      ]
     },
     "execution_count": 54,
     "metadata": {},
     "output_type": "execute_result"
    },
    {
     "ename": "\u001b[0;31mlength\u001b[0m",
     "evalue": "\u001b[0;31mlength\u001b[0m",
     "output_type": "error",
     "traceback": [
      "\u001b[0;31mevaluation error:\n\u001b[0m",
      "\u001b[0;31mlength\u001b[0m",
      "\u001b[0;31m\u001b[0m",
      "\u001b[0;31m  [0]  select name, distinct state from t\n       ^\n\u001b[0m"
     ]
    }
   ],
   "source": [
    "t:([] name:`a`b`c`d`e; state:`NY`FL`OH`NY`HI)\n",
    "exec name, distinct state from t\n",
    "select name, distinct state from t"
   ]
  },
  {
   "cell_type": "markdown",
   "metadata": {},
   "source": [
    "A common use of `exec` is when there is only one column in the aggregate phrase and no By phrase. The result is the computed column list devoid of other structure – i.e., not a dictionary or table. **This is useful to extract a column dynamically.**"
   ]
  },
  {
   "cell_type": "code",
   "execution_count": 54,
   "metadata": {
    "ExecuteTime": {
     "end_time": "2020-11-23T21:57:17.538061000Z",
     "start_time": "2020-11-23T21:57:17.535Z"
    }
   },
   "outputs": [
    {
     "data": {
      "text/plain": [
       "name\n",
       "----\n",
       "a   \n",
       "b   \n",
       "c   \n",
       "d   \n",
       "e   \n"
      ]
     },
     "execution_count": 54,
     "metadata": {},
     "output_type": "execute_result"
    },
    {
     "data": {
      "text/plain": [
       "`a`b`c`d`e\n"
      ]
     },
     "execution_count": 54,
     "metadata": {},
     "output_type": "execute_result"
    }
   ],
   "source": [
    "select name from t\n",
    "exec name from t"
   ]
  },
  {
   "cell_type": "code",
   "execution_count": 55,
   "metadata": {
    "ExecuteTime": {
     "end_time": "2020-11-23T21:57:29.629004000Z",
     "start_time": "2020-11-23T21:57:29.621Z"
    }
   },
   "outputs": [
    {
     "data": {
      "text/plain": [
       "`a`d`e\n"
      ]
     },
     "execution_count": 55,
     "metadata": {},
     "output_type": "execute_result"
    }
   ],
   "source": [
    "exec name from t where state in `NY`HI"
   ]
  },
  {
   "cell_type": "markdown",
   "metadata": {},
   "source": [
    "## The `update` Template"
   ]
  },
  {
   "cell_type": "markdown",
   "metadata": {},
   "source": [
    "### Basic update\n",
    "\n",
    "syntax is identical to `select`\n",
    "\n",
    "`udpate` $<p_s>$ <`by` $p_b$> `from` $t_{exp}$ <`where` $p_w$>\n"
   ]
  },
  {
   "cell_type": "code",
   "execution_count": 56,
   "metadata": {
    "ExecuteTime": {
     "end_time": "2020-11-23T22:04:57.154648000Z",
     "start_time": "2020-11-23T22:04:57.151Z"
    }
   },
   "outputs": [
    {
     "data": {
      "text/plain": [
       "c1 c2\n",
       "-----\n",
       "x  10\n",
       "y  20\n",
       "z  30\n"
      ]
     },
     "execution_count": 56,
     "metadata": {},
     "output_type": "execute_result"
    },
    {
     "data": {
      "text/plain": [
       "c1 c2 c3\n",
       "--------\n",
       "a  10 x \n",
       "b  20 y \n",
       "c  30 z \n"
      ]
     },
     "execution_count": 56,
     "metadata": {},
     "output_type": "execute_result"
    }
   ],
   "source": [
    "t:([] c1:`a`b`c; c2:10 20 30)\n",
    "update c1:`x`y`z from t\n",
    "update c3:`x`y`z from t"
   ]
  },
  {
   "cell_type": "markdown",
   "metadata": {},
   "source": [
    "The **implicit naming conventions** are the same as in select so you can omit the name and colon for existing columns in many cases."
   ]
  },
  {
   "cell_type": "code",
   "execution_count": 57,
   "metadata": {
    "ExecuteTime": {
     "end_time": "2020-11-23T22:05:37.374280000Z",
     "start_time": "2020-11-23T22:05:37.372Z"
    }
   },
   "outputs": [
    {
     "data": {
      "text/plain": [
       "1b\n"
      ]
     },
     "execution_count": 57,
     "metadata": {},
     "output_type": "execute_result"
    }
   ],
   "source": [
    "(update c2:c2+100 from t)~update c2+100 from t"
   ]
  },
  {
   "cell_type": "markdown",
   "metadata": {},
   "source": [
    "In the examples above, the table was passed by value and so the original was not modified. To modify the table in place, **pass it by name.**"
   ]
  },
  {
   "cell_type": "code",
   "execution_count": 58,
   "metadata": {
    "ExecuteTime": {
     "end_time": "2020-11-23T22:07:16.207632000Z",
     "start_time": "2020-11-23T22:07:16.204Z"
    }
   },
   "outputs": [
    {
     "data": {
      "text/plain": [
       "`t\n"
      ]
     },
     "execution_count": 58,
     "metadata": {},
     "output_type": "execute_result"
    },
    {
     "data": {
      "text/plain": [
       "c1 c2\n",
       "-----\n",
       "x  10\n",
       "y  20\n",
       "z  30\n"
      ]
     },
     "execution_count": 58,
     "metadata": {},
     "output_type": "execute_result"
    }
   ],
   "source": [
    "t:([] c1:`a`b`c; c2:10 20 30)\n",
    "update c1:`x`y`z from `t\n",
    "t"
   ]
  },
  {
   "cell_type": "markdown",
   "metadata": {},
   "source": [
    "Add a “constant” column by taking advantage of the fact that scalars are extended to match vectors. This is **not** a default value for the column in subsequent records."
   ]
  },
  {
   "cell_type": "code",
   "execution_count": 59,
   "metadata": {
    "ExecuteTime": {
     "end_time": "2020-11-23T22:08:05.114796000Z",
     "start_time": "2020-11-23T22:08:05.112Z"
    }
   },
   "outputs": [
    {
     "data": {
      "text/plain": [
       "c1 c2 c3\n",
       "--------\n",
       "x  10 42\n",
       "y  20 42\n",
       "z  30 42\n"
      ]
     },
     "execution_count": 59,
     "metadata": {},
     "output_type": "execute_result"
    }
   ],
   "source": [
    "update c3:42 from t"
   ]
  },
  {
   "cell_type": "markdown",
   "metadata": {},
   "source": [
    "Often you will `apply` update with a `where` phrase that limits the scope of the modification."
   ]
  },
  {
   "cell_type": "code",
   "execution_count": 60,
   "metadata": {
    "ExecuteTime": {
     "end_time": "2020-11-23T22:08:45.511722000Z",
     "start_time": "2020-11-23T22:08:45.504Z"
    }
   },
   "outputs": [
    {
     "data": {
      "text/plain": [
       "c1 c2 \n",
       "------\n",
       "a  10 \n",
       "b  120\n",
       "c  130\n"
      ]
     },
     "execution_count": 60,
     "metadata": {},
     "output_type": "execute_result"
    }
   ],
   "source": [
    "t:([] c1:`a`b`c; c2:10 20 30)\n",
    "update c2:c2+100 from t where c1<>`a"
   ]
  },
  {
   "cell_type": "markdown",
   "metadata": {},
   "source": [
    "If you add a new column in `update` with a Where phrase, the fields in the **non-selected rows will have the null value of the appropriate type.**"
   ]
  },
  {
   "cell_type": "code",
   "execution_count": 61,
   "metadata": {
    "ExecuteTime": {
     "end_time": "2020-11-23T22:10:05.374240000Z",
     "start_time": "2020-11-23T22:10:05.372Z"
    }
   },
   "outputs": [
    {
     "data": {
      "text/plain": [
       "c1 c2 c3\n",
       "--------\n",
       "a  10 0 \n",
       "b  20 1 \n",
       "c  30 1 \n"
      ]
     },
     "execution_count": 61,
     "metadata": {},
     "output_type": "execute_result"
    }
   ],
   "source": [
    "update c3:1b from t where c2>15"
   ]
  },
  {
   "cell_type": "markdown",
   "metadata": {},
   "source": [
    "You can use any q expression to the right of the colon providing **the size and type match the targeted location.**"
   ]
  },
  {
   "cell_type": "code",
   "execution_count": null,
   "metadata": {},
   "outputs": [],
   "source": [
    "update c2:42 43 from t where c2>15\n",
    "update c2:42 43 44 from t where c2>15 /`length\n",
    "update c2:42.0 43 from t where c2>15 /`type"
   ]
  },
  {
   "cell_type": "markdown",
   "metadata": {},
   "source": [
    "### update-by"
   ]
  },
  {
   "cell_type": "markdown",
   "metadata": {},
   "source": [
    "When the By phrase is present, the update operation is performed along groups. This is most useful with aggregate and uniform functions. For an aggregate function, the entire group gets the value of the aggregation on the group."
   ]
  },
  {
   "cell_type": "code",
   "execution_count": 62,
   "metadata": {
    "ExecuteTime": {
     "end_time": "2020-11-23T22:12:14.527307000Z",
     "start_time": "2020-11-23T22:12:14.525Z"
    }
   },
   "outputs": [
    {
     "data": {
      "text/plain": [
       "p | name  color weight city  \n",
       "--| -------------------------\n",
       "p1| nut   red   15     london\n",
       "p2| bolt  green 14.5   paris \n",
       "p3| screw blue  17     rome  \n",
       "p4| screw red   15     london\n",
       "p5| cam   blue  14.5   paris \n",
       "p6| cog   red   15     london\n"
      ]
     },
     "execution_count": 62,
     "metadata": {},
     "output_type": "execute_result"
    }
   ],
   "source": [
    "update avg weight by city from p"
   ]
  },
  {
   "cell_type": "markdown",
   "metadata": {},
   "source": [
    "A uniform function is applied along the group in place."
   ]
  },
  {
   "cell_type": "code",
   "execution_count": 65,
   "metadata": {
    "ExecuteTime": {
     "end_time": "2020-11-23T22:13:01.884081000Z",
     "start_time": "2020-11-23T22:13:01.881Z"
    }
   },
   "outputs": [
    {
     "data": {
      "text/plain": [
       "s p  qty cumqty\n",
       "---------------\n",
       "0 p1 300 300   \n",
       "0 p2 200 500   \n",
       "0 p3 400 900   \n",
       "0 p4 200 1100  \n",
       "3 p5 100 100   \n",
       "0 p6 100 1200  \n",
       "1 p1 300 300   \n",
       "1 p2 400 700   \n",
       "2 p2 200 200   \n",
       "3 p2 200 300   \n",
       "3 p4 300 600   \n",
       "3 p5 400 1000  \n"
      ]
     },
     "execution_count": 65,
     "metadata": {},
     "output_type": "execute_result"
    }
   ],
   "source": [
    "update cumqty:sums qty by s from sp"
   ]
  },
  {
   "cell_type": "markdown",
   "metadata": {},
   "source": [
    "## The `delete` Template"
   ]
  },
  {
   "cell_type": "markdown",
   "metadata": {},
   "source": [
    "`delete`: allows either rows or columns to be deleted. Its syntax is a simplified form of `select`, with the restriction that either $p_{cols}$ or $p_w$ can be present but not both.\n",
    "\n",
    "`delete` $<p_{cols}>$ `from` $t_{exp}$ <`where` $p_w$>\n",
    "\n",
    "If $p_{cols}$ is present as a comma-separated list of columns, the result is $t_{exp}$ with the specified columns removed. If $p_w$ is present, the result is $t_{exp}$ after records meeting the criteria of $p_w$ are removed.  We **cannot** remove rows and columns simultaneously."
   ]
  },
  {
   "cell_type": "code",
   "execution_count": 67,
   "metadata": {
    "ExecuteTime": {
     "end_time": "2020-11-23T22:18:04.506807000Z",
     "start_time": "2020-11-23T22:18:04.496Z"
    }
   },
   "outputs": [
    {
     "data": {
      "text/plain": [
       "c2\n",
       "--\n",
       "10\n",
       "20\n",
       "30\n"
      ]
     },
     "execution_count": 67,
     "metadata": {},
     "output_type": "execute_result"
    },
    {
     "data": {
      "text/plain": [
       "`t\n"
      ]
     },
     "execution_count": 67,
     "metadata": {},
     "output_type": "execute_result"
    },
    {
     "data": {
      "text/plain": [
       "c1 c2\n",
       "-----\n",
       "a  10\n"
      ]
     },
     "execution_count": 67,
     "metadata": {},
     "output_type": "execute_result"
    }
   ],
   "source": [
    "t:([] c1:`a`b`c; c2:10 20 30)\n",
    "delete c1 from t\n",
    "delete from `t where c2>15\n",
    "t"
   ]
  },
  {
   "cell_type": "markdown",
   "metadata": {},
   "source": [
    "## Sorting\n",
    "\n",
    "### `xasc`\n",
    "\n",
    "The binary `xasc` takes a **scalar, or list of, symbolic column name(s)** as its left operand and **a table or table name** as its right operand. It returns the records of the table sorted ascending on the specified column(s). The sort column list is specified in major-to-minor sort order."
   ]
  },
  {
   "cell_type": "code",
   "execution_count": 68,
   "metadata": {
    "ExecuteTime": {
     "end_time": "2020-11-23T22:20:14.793009000Z",
     "start_time": "2020-11-23T22:20:14.785Z"
    }
   },
   "outputs": [
    {
     "data": {
      "text/plain": [
       "c1 c2\n",
       "-----\n",
       "b  10\n",
       "a  20\n",
       "a  30\n",
       "c  40\n"
      ]
     },
     "execution_count": 68,
     "metadata": {},
     "output_type": "execute_result"
    }
   ],
   "source": [
    "t:([] c1:`a`b`c`a; c2:20 10 40 30)\n",
    "`c2 xasc t"
   ]
  },
  {
   "cell_type": "code",
   "execution_count": 69,
   "metadata": {
    "ExecuteTime": {
     "end_time": "2020-11-23T22:20:26.190553000Z",
     "start_time": "2020-11-23T22:20:26.188Z"
    }
   },
   "outputs": [
    {
     "data": {
      "text/plain": [
       "c1 c2\n",
       "-----\n",
       "a  20\n",
       "a  30\n",
       "b  10\n",
       "c  40\n"
      ]
     },
     "execution_count": 69,
     "metadata": {},
     "output_type": "execute_result"
    }
   ],
   "source": [
    "`c1`c2 xasc t"
   ]
  },
  {
   "cell_type": "markdown",
   "metadata": {},
   "source": [
    "### `xdesc`"
   ]
  },
  {
   "cell_type": "markdown",
   "metadata": {},
   "source": [
    "### Mixed Sort"
   ]
  },
  {
   "cell_type": "code",
   "execution_count": 71,
   "metadata": {
    "ExecuteTime": {
     "end_time": "2020-11-23T22:21:10.327084000Z",
     "start_time": "2020-11-23T22:21:10.320Z"
    }
   },
   "outputs": [
    {
     "data": {
      "text/plain": [
       "c1 c2\n",
       "-----\n",
       "a  30\n",
       "a  20\n",
       "b  10\n",
       "c  40\n"
      ]
     },
     "execution_count": 71,
     "metadata": {},
     "output_type": "execute_result"
    }
   ],
   "source": [
    "`c1 xasc `c2 xdesc t"
   ]
  },
  {
   "cell_type": "markdown",
   "metadata": {},
   "source": [
    "## Renaming and Rearranging Columns"
   ]
  },
  {
   "cell_type": "code",
   "execution_count": 73,
   "metadata": {
    "ExecuteTime": {
     "end_time": "2020-11-23T22:43:38.274734000Z",
     "start_time": "2020-11-23T22:43:38.273Z"
    }
   },
   "outputs": [],
   "source": [
    "t:([] c1:`a`b`c; c2:10 20 30; c3:1.1 2.2 3.3)"
   ]
  },
  {
   "cell_type": "markdown",
   "metadata": {},
   "source": [
    "### `xcol`\n",
    "\n",
    "The binary `xcol` takes a scalar, or list of, symbolic column name(s) as its left operand (names) and a table or keyed table (source) as its right operand. The columns in names must appear in source. The result is a table obtained by renaming the left-most columns of source according to names.\n",
    "\n",
    "**no pass-by-name version of `xcol`**. To modify the source, reassign it."
   ]
  },
  {
   "cell_type": "code",
   "execution_count": 75,
   "metadata": {
    "ExecuteTime": {
     "end_time": "2020-11-23T22:44:05.846388000Z",
     "start_time": "2020-11-23T22:44:05.844Z"
    }
   },
   "outputs": [
    {
     "data": {
      "text/plain": [
       "new1 new2 c3 \n",
       "-------------\n",
       "a    10   1.1\n",
       "b    20   2.2\n",
       "c    30   3.3\n"
      ]
     },
     "execution_count": 75,
     "metadata": {},
     "output_type": "execute_result"
    }
   ],
   "source": [
    "`new1`new2 xcol t"
   ]
  },
  {
   "cell_type": "markdown",
   "metadata": {},
   "source": [
    "### `xcols`\n",
    "\n",
    "The binary `xcols` takes a scalar, or list of, symbolic column name(s) as its left argument (names) and a table (source) as its right argument. The output is the result of reordering the columns in names so that those in names occur at the beginning – i.e., left-most in the display. Columns not specified in names are left in original order at the end – i.e., right-most.\n",
    "\n",
    "Notes:\n",
    "\n",
    "- The source operand **cannot** be a keyed table.\n",
    "- There is no pass-by-name version of `xcols`. To modify the source, you must reassign it."
   ]
  },
  {
   "cell_type": "code",
   "execution_count": 76,
   "metadata": {
    "ExecuteTime": {
     "end_time": "2020-11-23T22:46:31.085861000Z",
     "start_time": "2020-11-23T22:46:31.082Z"
    }
   },
   "outputs": [
    {
     "data": {
      "text/plain": [
       "c3  c1 c2\n",
       "---------\n",
       "1.1 a  10\n",
       "2.2 b  20\n",
       "3.3 c  30\n"
      ]
     },
     "execution_count": 76,
     "metadata": {},
     "output_type": "execute_result"
    },
    {
     "data": {
      "text/plain": [
       "c3  c2 c1\n",
       "---------\n",
       "1.1 10 a \n",
       "2.2 20 b \n",
       "3.3 30 c \n"
      ]
     },
     "execution_count": 76,
     "metadata": {},
     "output_type": "execute_result"
    },
    {
     "data": {
      "text/plain": [
       "c1 c2 c3 \n",
       "---------\n",
       "a  10 1.1\n",
       "b  20 2.2\n",
       "c  30 3.3\n"
      ]
     },
     "execution_count": 76,
     "metadata": {},
     "output_type": "execute_result"
    }
   ],
   "source": [
    "`c3 xcols t\n",
    "`c3`c2 xcols t\n",
    "t"
   ]
  },
  {
   "cell_type": "markdown",
   "metadata": {},
   "source": [
    "## Joins"
   ]
  },
  {
   "cell_type": "code",
   "execution_count": null,
   "metadata": {},
   "outputs": [],
   "source": []
  }
 ],
 "metadata": {
  "kernelspec": {
   "display_name": "Q (kdb+)",
   "language": "q",
   "name": "qpk"
  },
  "language_info": {
   "file_extension": ".q",
   "mimetype": "text/x-q",
   "name": "q",
   "version": "4.0"
  },
  "toc": {
   "base_numbering": "0",
   "nav_menu": {},
   "number_sections": true,
   "sideBar": true,
   "skip_h1_title": false,
   "title_cell": "Table of Contents",
   "title_sidebar": "Contents",
   "toc_cell": true,
   "toc_position": {},
   "toc_section_display": true,
   "toc_window_display": true
  }
 },
 "nbformat": 4,
 "nbformat_minor": 4
}
