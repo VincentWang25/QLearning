{
 "cells": [
  {
   "cell_type": "markdown",
   "metadata": {
    "toc": true
   },
   "source": [
    "<h1>Table of Contents<span class=\"tocSkip\"></span></h1>\n",
    "<div class=\"toc\"><ul class=\"toc-item\"><li><span><a href=\"#Namespaces\" data-toc-modified-id=\"Namespaces-1\"><span class=\"toc-item-num\">1&nbsp;&nbsp;</span>Namespaces</a></span></li><li><span><a href=\"#Contexts\" data-toc-modified-id=\"Contexts-2\"><span class=\"toc-item-num\">2&nbsp;&nbsp;</span>Contexts</a></span></li><li><span><a href=\"#Creating-Contexts\" data-toc-modified-id=\"Creating-Contexts-3\"><span class=\"toc-item-num\">3&nbsp;&nbsp;</span>Creating Contexts</a></span></li><li><span><a href=\"#Context-as-Dictionary\" data-toc-modified-id=\"Context-as-Dictionary-4\"><span class=\"toc-item-num\">4&nbsp;&nbsp;</span>Context as Dictionary</a></span></li><li><span><a href=\"#Expunging-from-a-Context\" data-toc-modified-id=\"Expunging-from-a-Context-5\"><span class=\"toc-item-num\">5&nbsp;&nbsp;</span>Expunging from a Context</a></span></li><li><span><a href=\"#Saving-and-Loading-Contexts\" data-toc-modified-id=\"Saving-and-Loading-Contexts-6\"><span class=\"toc-item-num\">6&nbsp;&nbsp;</span>Saving and Loading Contexts</a></span></li><li><span><a href=\"#Working-in-a-Context\" data-toc-modified-id=\"Working-in-a-Context-7\"><span class=\"toc-item-num\">7&nbsp;&nbsp;</span>Working in a Context</a></span></li></ul></div>"
   ]
  },
  {
   "cell_type": "markdown",
   "metadata": {},
   "source": [
    "## Namespaces\n",
    "\n",
    "Namespaces in many programming languages work similarly, using `.` as the separator. In q the containers are called contexts. For example, `.jab.x` represents a variable `x` contained in the jab context. The context jab has the symbolic name \\`.jab and the fully qualified name of its variable is \\`.jab.x."
   ]
  },
  {
   "cell_type": "markdown",
   "metadata": {},
   "source": [
    "The syntactic form `.name` does **not** refer to the global variable name in the root context; rather, it refers to the context `name` in the root. The fully qualified `name` for an entity `x` in the root is simply `x`."
   ]
  },
  {
   "cell_type": "markdown",
   "metadata": {},
   "source": [
    "**Namespaces Fact of Life #1**\n",
    "\n",
    "There is no syntactic way inside a function to distinguish between a local variable x and the global x in the root namespace.\n",
    "\n",
    "**Tip**\n",
    "\n",
    "Inside a function you can not access the global variable foo in the root context as .foo. Instead, `.foo` refers to the dictionary that holds all entities of the `foo` context. If you assign a value to `.foo` you wipe out the entire foo context."
   ]
  },
  {
   "cell_type": "markdown",
   "metadata": {},
   "source": [
    "## Contexts\n",
    "\n",
    "The name of a context has the same restrictions as q variable names except that `.` is allowable. The following are all valid names of contexts in the root.\n",
    "\n",
    "```\n",
    ".a\n",
    ".q\n",
    ".cat\n",
    ".an_ugly_context_name\n",
    "```"
   ]
  },
  {
   "cell_type": "markdown",
   "metadata": {
    "ExecuteTime": {
     "end_time": "2020-11-27T15:06:28.501722000Z",
     "start_time": "2020-11-27T15:06:28.494Z"
    }
   },
   "source": [
    "**Namespacing Fact of Life #2**\n",
    "\n",
    "The interpretation of a fully qualified name depends on its underlying value. If it is a properly constructed dictionary, it is a context. If it is anything else, it is a variable."
   ]
  },
  {
   "cell_type": "markdown",
   "metadata": {},
   "source": [
    "Kx reserves all root namespaces of a single letter, as well `.kx`, for its own use. It is worth noting that most q built-in functions that are not written in C live in the `.q` namespace. As of this writing (Sep 2015) the namespaces that are actively used by Kx include `.h`, `.j`, `.o`, `.q`, `.u`, `.z` and `.Q`."
   ]
  },
  {
   "cell_type": "markdown",
   "metadata": {},
   "source": [
    "## Creating Contexts"
   ]
  },
  {
   "cell_type": "code",
   "execution_count": 1,
   "metadata": {
    "ExecuteTime": {
     "end_time": "2020-11-27T19:59:32.069817000Z",
     "start_time": "2020-11-27T19:59:32.068Z"
    }
   },
   "outputs": [],
   "source": [
    "answer:42\n",
    "calculate:{(x*x)+(-1*x)+1}"
   ]
  },
  {
   "cell_type": "code",
   "execution_count": 2,
   "metadata": {
    "ExecuteTime": {
     "end_time": "2020-11-27T19:59:39.353507000Z",
     "start_time": "2020-11-27T19:59:39.351Z"
    }
   },
   "outputs": [],
   "source": [
    ".foo.a:42 / context foo created\n",
    ".foo.double:{2*x} / existing context foo used"
   ]
  },
  {
   "cell_type": "code",
   "execution_count": 3,
   "metadata": {
    "ExecuteTime": {
     "end_time": "2020-11-27T19:59:51.316996000Z",
     "start_time": "2020-11-27T19:59:51.315Z"
    }
   },
   "outputs": [],
   "source": [
    ".bar.a:43 / context bar created\n",
    ".bar.double:{2*x} / existing context bar used"
   ]
  },
  {
   "cell_type": "code",
   "execution_count": 4,
   "metadata": {
    "ExecuteTime": {
     "end_time": "2020-11-27T20:00:11.310530000Z",
     "start_time": "2020-11-27T20:00:11.308Z"
    }
   },
   "outputs": [
    {
     "data": {
      "text/plain": [
       "`q`Q`h`j`o`qpk`p`P`b64`foo`bar\n"
      ]
     },
     "execution_count": 4,
     "metadata": {},
     "output_type": "execute_result"
    }
   ],
   "source": [
    "key `"
   ]
  },
  {
   "cell_type": "code",
   "execution_count": 5,
   "metadata": {
    "ExecuteTime": {
     "end_time": "2020-11-27T20:00:29.793093000Z",
     "start_time": "2020-11-27T20:00:29.787Z"
    }
   },
   "outputs": [],
   "source": [
    ".apl.core.calc.array.fill0:{0.0^x}"
   ]
  },
  {
   "cell_type": "code",
   "execution_count": 6,
   "metadata": {
    "ExecuteTime": {
     "end_time": "2020-11-27T20:00:38.484079000Z",
     "start_time": "2020-11-27T20:00:38.481Z"
    }
   },
   "outputs": [
    {
     "data": {
      "text/plain": [
       "`q`Q`h`j`o`qpk`p`P`b64`foo`bar`apl\n"
      ]
     },
     "execution_count": 6,
     "metadata": {},
     "output_type": "execute_result"
    }
   ],
   "source": [
    "key `"
   ]
  },
  {
   "cell_type": "markdown",
   "metadata": {},
   "source": [
    "## Context as Dictionary"
   ]
  },
  {
   "cell_type": "code",
   "execution_count": 1,
   "metadata": {
    "ExecuteTime": {
     "end_time": "2020-11-27T20:02:49.162500000Z",
     "start_time": "2020-11-27T20:02:49.159Z"
    }
   },
   "outputs": [
    {
     "data": {
      "text/plain": [
       "\"`help`print!({[gh;h;x]if[10=type u:gh[h]x;-2 u]}[{[h;x]$[i.isf x;h x;i.isw x..\n"
      ]
     },
     "execution_count": 1,
     "metadata": {},
     "output_type": "execute_result"
    }
   ],
   "source": [
    ".Q.s1  get `."
   ]
  },
  {
   "cell_type": "code",
   "execution_count": 2,
   "metadata": {
    "ExecuteTime": {
     "end_time": "2020-11-27T20:03:07.544118000Z",
     "start_time": "2020-11-27T20:03:07.535Z"
    }
   },
   "outputs": [
    {
     "data": {
      "text/plain": [
       "help  | {[gh;h;x]if[10=type u:gh[h]x;-2 u]}[{[h;x]$[i.isf x;h x;i.isw x;h x`...\n",
       "print | {x y;}[{[f;x]embedPy[f;x]}[foreign]enlist]\n",
       "a     | 42\n",
       "double| {2*x}\n"
      ]
     },
     "execution_count": 2,
     "metadata": {},
     "output_type": "execute_result"
    }
   ],
   "source": [
    "a:42\n",
    "double :{2*x}\n",
    "get `."
   ]
  },
  {
   "cell_type": "markdown",
   "metadata": {},
   "source": [
    "**The entries in a context dictionary are sorted by name.**"
   ]
  },
  {
   "cell_type": "code",
   "execution_count": 4,
   "metadata": {
    "ExecuteTime": {
     "end_time": "2020-11-27T20:04:24.816770000Z",
     "start_time": "2020-11-27T20:04:24.813Z"
    }
   },
   "outputs": [
    {
     "data": {
      "text/plain": [
       "help  | {[gh;h;x]if[10=type u:gh[h]x;-2 u]}[{[h;x]$[i.isf x;h x;i.isw x;h x`...\n",
       "print | {x y;}[{[f;x]embedPy[f;x]}[foreign]enlist]\n",
       "a     | 42\n",
       "double| {2*x}\n"
      ]
     },
     "execution_count": 4,
     "metadata": {},
     "output_type": "execute_result"
    }
   ],
   "source": [
    ".jab.wrong:43\n",
    "get `."
   ]
  },
  {
   "cell_type": "code",
   "execution_count": 5,
   "metadata": {
    "ExecuteTime": {
     "end_time": "2020-11-27T20:04:29.723888000Z",
     "start_time": "2020-11-27T20:04:29.716Z"
    }
   },
   "outputs": [
    {
     "data": {
      "text/plain": [
       "     | ::\n",
       "wrong| 43\n"
      ]
     },
     "execution_count": 5,
     "metadata": {},
     "output_type": "execute_result"
    }
   ],
   "source": [
    "get `.jab"
   ]
  },
  {
   "cell_type": "markdown",
   "metadata": {},
   "source": [
    "Observe that the newly created context dictionary for `.jab` is **not** physically in the root directory; it is a separate dictionary."
   ]
  },
  {
   "cell_type": "markdown",
   "metadata": {},
   "source": [
    "**Advanced**\n",
    "\n",
    "You might wonder about the significance of the `::` in the first entry of the `.jab` context dictionary. It is there to prevent the value list of the context dictionary from collapsing to a simple list in case all the variables should have values of the same scalar type. This would then prevent subsequent definition of variables of other types in that context."
   ]
  },
  {
   "cell_type": "markdown",
   "metadata": {},
   "source": [
    "## Expunging from a Context\n",
    "\n",
    "deleta a from \\`. \n",
    "\n",
    "delete wrong from \\`.jab"
   ]
  },
  {
   "cell_type": "markdown",
   "metadata": {},
   "source": [
    "## Saving and Loading Contexts"
   ]
  },
  {
   "cell_type": "markdown",
   "metadata": {},
   "source": [
    "Since a context is a dictionary, you can persist it – and all its contents – as a serialized q object using `set`.\n",
    "\n",
    "For example, to write out the root context, retrieve it by name and set it into a file."
   ]
  },
  {
   "cell_type": "code",
   "execution_count": 6,
   "metadata": {
    "ExecuteTime": {
     "end_time": "2020-11-27T20:25:06.834296000Z",
     "start_time": "2020-11-27T20:25:06.831Z"
    }
   },
   "outputs": [
    {
     "ename": "\u001b[0;31mnyi\u001b[0m",
     "evalue": "\u001b[0;31mnyi\u001b[0m",
     "output_type": "error",
     "traceback": [
      "\u001b[0;31mevaluation error:\n\u001b[0m",
      "\u001b[0;31mnyi\u001b[0m",
      "\u001b[0;31m\u001b[0m",
      "\u001b[0;31m  [1]  (.q.set)\n\n\u001b[0m",
      "\u001b[0;31m  [0]  `:./Ch12Workspace/root set get `.\n                              ^\n\u001b[0m"
     ]
    }
   ],
   "source": [
    "`:./Ch12Workspace/root set get `."
   ]
  },
  {
   "cell_type": "markdown",
   "metadata": {},
   "source": [
    "Conversely, you can read the serialized object back into memory using `get` on the file and then overwrite the current root context using `set`"
   ]
  },
  {
   "cell_type": "code",
   "execution_count": 6,
   "metadata": {
    "ExecuteTime": {
     "end_time": "2020-11-27T20:24:05.548111000Z",
     "start_time": "2020-11-27T20:24:05.539Z"
    }
   },
   "outputs": [
    {
     "data": {
      "text/plain": [
       "help  | {[gh;h;x]if[10=type u:gh[h]x;-2 u]}[{[h;x]$[i.isf x;h x;i.isw x;h x`...\n",
       "print | {x y;}[{[f;x]embedPy[f;x]}[foreign]enlist]\n",
       "a     | 42\n",
       "double| {2*x}\n"
      ]
     },
     "execution_count": 6,
     "metadata": {},
     "output_type": "execute_result"
    }
   ],
   "source": [
    "`. set get `:./Ch12Workspace/root"
   ]
  },
  {
   "cell_type": "markdown",
   "metadata": {},
   "source": [
    "**If you organize your globals carefully, this makes check-pointing the state of your application very simple. Overlaying the root context replaces all its entries. As the saying goes, “Be careful what you ask for.”**"
   ]
  },
  {
   "cell_type": "markdown",
   "metadata": {},
   "source": [
    "## Working in a Context"
   ]
  },
  {
   "cell_type": "markdown",
   "metadata": {},
   "source": [
    "A q session has a similar concept. At any point in the session there is a current working context. At the beginning of a fresh q session, the current working context is the root context and you use absolute names for all global variables. We can change the working context with the `\\d command` (for **“directory” by analogy to the file system**). After you change the current working context, you can use relative names for global variables. Here we create two globals in the root context and then switch the current working context to show relative names.\n",
    "\n"
   ]
  },
  {
   "cell_type": "code",
   "execution_count": 18,
   "metadata": {
    "ExecuteTime": {
     "end_time": "2020-11-27T20:33:07.170230000Z",
     "start_time": "2020-11-27T20:33:07.163Z"
    }
   },
   "outputs": [
    {
     "data": {
      "text/plain": [
       "`.jab.util.counter\n"
      ]
     },
     "execution_count": 18,
     "metadata": {},
     "output_type": "execute_result"
    }
   ],
   "source": [
    ".jab.util.counter:0\n",
    ".jab.util.incrctr:{[] `.jab.util.counter set 1+get `.jab.util.counter}\n",
    ".jab.util.incrctr[]"
   ]
  },
  {
   "cell_type": "markdown",
   "metadata": {},
   "source": [
    "There is a subtle point about how globals are bound during function definition that we must point out. "
   ]
  },
  {
   "cell_type": "code",
   "execution_count": 19,
   "metadata": {
    "ExecuteTime": {
     "end_time": "2020-11-27T20:33:14.252036000Z",
     "start_time": "2020-11-27T20:33:14.248Z"
    }
   },
   "outputs": [
    {
     "data": {
      "text/plain": [
       "`.jab.util.counter\n"
      ]
     },
     "execution_count": 19,
     "metadata": {},
     "output_type": "execute_result"
    },
    {
     "data": {
      "text/plain": [
       "2\n"
      ]
     },
     "execution_count": 19,
     "metadata": {},
     "output_type": "execute_result"
    },
    {
     "data": {
      "text/plain": [
       "`NY\n"
      ]
     },
     "execution_count": 19,
     "metadata": {},
     "output_type": "execute_result"
    }
   ],
   "source": [
    "\\d .jab\n",
    "util.incrctr[]\n",
    "util.counter\n",
    "state:`NY\n",
    "jab.f1:{[] state}\n",
    "state\n",
    "f2:{[] state}\n",
    "\\d ."
   ]
  },
  {
   "cell_type": "code",
   "execution_count": 21,
   "metadata": {
    "ExecuteTime": {
     "end_time": "2020-11-27T20:33:43.084609000Z",
     "start_time": "2020-11-27T20:33:43.075Z"
    }
   },
   "outputs": [
    {
     "data": {
      "text/plain": [
       "     | ::\n",
       "wrong| 43\n",
       "util | ``counter`incrctr!(::;2;{[] `.jab.util.counter set 1+get `.jab.util.co..\n",
       "state| `NY\n",
       "jab  | ``f1!(::;{[] state})\n",
       "f2   | {[] state}\n"
      ]
     },
     "execution_count": 21,
     "metadata": {},
     "output_type": "execute_result"
    }
   ],
   "source": [
    "get `.jab"
   ]
  },
  {
   "cell_type": "markdown",
   "metadata": {},
   "source": [
    "We began by defining a variable `state` in the root context to hold a two-character code for one of the fifty United States of America. Also from the root context, we define a function `f1` in the `.jab` context that returns the value of `state` from the root context. Next we switch to the `.jab` context and define a variable `state` that holds the integer value of a state machine, along with a function `f2` that returns the value of this global."
   ]
  },
  {
   "cell_type": "markdown",
   "metadata": {},
   "source": [
    "**Namespacing Fact of Life #3**\n",
    "Any unqualified global reference in a function is bound to the current working context in effect at the point of the function definition. That context is not explicitly displayed in the function body."
   ]
  },
  {
   "cell_type": "code",
   "execution_count": 22,
   "metadata": {
    "ExecuteTime": {
     "end_time": "2020-11-27T20:48:32.300975000Z",
     "start_time": "2020-11-27T20:48:32.297Z"
    }
   },
   "outputs": [
    {
     "ename": "\u001b[0;31m.jab.util\u001b[0m",
     "evalue": "\u001b[0;31m.jab.util\u001b[0m",
     "output_type": "error",
     "traceback": [
      "\u001b[0;31mevaluation error:\n\u001b[0m",
      "\u001b[0;31m.jab.util\u001b[0m",
      "\u001b[0;31m\u001b[0m",
      "\u001b[0;31m  [0]  \\d .jab.util / can;t do this way\n       ^\n\u001b[0m"
     ]
    }
   ],
   "source": [
    ".jab.util.counter:0\n",
    ".jab.util.incrctr:{[] `.jab.util.counter set 1+get `.jab.util.counter}\n",
    "\\d .jab.util / can't do this way"
   ]
  },
  {
   "cell_type": "markdown",
   "metadata": {},
   "source": [
    "**Namespacing Fact of Life #4**\n",
    "\n",
    "You can only set the current working context one level down from the root. This is truly unfortunate."
   ]
  },
  {
   "cell_type": "markdown",
   "metadata": {},
   "source": [
    "**Recommendation for Namespacing**\n",
    "\n",
    "1. Use namespacing at arbitrary depth to create hierarchical organization of global variables, both data and functions.\n",
    "2. Keep related functions and any globals they require together in an appropriate context in the hierarchy with a descriptive name.\n",
    "3. By convention, q namespaces are all lower case.\n",
    "4. Define all global entities from the root context using fully qualified names.\n",
    "5. Always refer to global entities using fully qualified names.\n",
    "\n",
    "Essentially the last two recommendations amount to avoiding all use of `\\d` to switch the current working context. "
   ]
  },
  {
   "cell_type": "code",
   "execution_count": 23,
   "metadata": {
    "ExecuteTime": {
     "end_time": "2020-11-27T20:50:59.260911000Z",
     "start_time": "2020-11-27T20:50:59.251Z"
    }
   },
   "outputs": [
    {
     "data": {
      "text/plain": [
       "{[] .jab.geog.state}\n"
      ]
     },
     "execution_count": 23,
     "metadata": {},
     "output_type": "execute_result"
    },
    {
     "data": {
      "text/plain": [
       "{[] .jab.machine.state}\n"
      ]
     },
     "execution_count": 23,
     "metadata": {},
     "output_type": "execute_result"
    }
   ],
   "source": [
    ".jab.geog.state:`NY\n",
    ".jab.geog.f1:{[] .jab.geog.state}\n",
    ".jab.machine.state:0N\n",
    ".jab.machine.f2:{[] .jab.machine.state}\n",
    ".jab.geog.f1\n",
    ".jab.machine.f2"
   ]
  },
  {
   "cell_type": "code",
   "execution_count": null,
   "metadata": {},
   "outputs": [],
   "source": []
  }
 ],
 "metadata": {
  "kernelspec": {
   "display_name": "Q (kdb+)",
   "language": "q",
   "name": "qpk"
  },
  "language_info": {
   "file_extension": ".q",
   "mimetype": "text/x-q",
   "name": "q",
   "version": "4.0"
  },
  "toc": {
   "base_numbering": 1,
   "nav_menu": {},
   "number_sections": true,
   "sideBar": true,
   "skip_h1_title": false,
   "title_cell": "Table of Contents",
   "title_sidebar": "Contents",
   "toc_cell": true,
   "toc_position": {},
   "toc_section_display": true,
   "toc_window_display": false
  }
 },
 "nbformat": 4,
 "nbformat_minor": 4
}
