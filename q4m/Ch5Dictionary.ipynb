{
 "cells": [
  {
   "cell_type": "markdown",
   "metadata": {
    "toc": true
   },
   "source": [
    "<h1>Table of Contents<span class=\"tocSkip\"></span></h1>\n",
    "<div class=\"toc\"><ul class=\"toc-item\"><li><span><a href=\"#Dictionary-Basics\" data-toc-modified-id=\"Dictionary-Basics-1\"><span class=\"toc-item-num\">1&nbsp;&nbsp;</span>Dictionary Basics</a></span><ul class=\"toc-item\"><li><span><a href=\"#Definition\" data-toc-modified-id=\"Definition-1.1\"><span class=\"toc-item-num\">1.1&nbsp;&nbsp;</span>Definition</a></span></li><li><span><a href=\"#Empty-and-Singleton-Dictionaries\" data-toc-modified-id=\"Empty-and-Singleton-Dictionaries-1.2\"><span class=\"toc-item-num\">1.2&nbsp;&nbsp;</span>Empty and Singleton Dictionaries</a></span></li><li><span><a href=\"#Lookup\" data-toc-modified-id=\"Lookup-1.3\"><span class=\"toc-item-num\">1.3&nbsp;&nbsp;</span>Lookup</a></span></li><li><span><a href=\"#Reverse-Lookup-with-Find-?\" data-toc-modified-id=\"Reverse-Lookup-with-Find-?-1.4\"><span class=\"toc-item-num\">1.4&nbsp;&nbsp;</span>Reverse Lookup with Find <code>?</code></a></span></li><li><span><a href=\"#Dictionary-vs.-List\" data-toc-modified-id=\"Dictionary-vs.-List-1.5\"><span class=\"toc-item-num\">1.5&nbsp;&nbsp;</span>Dictionary vs. List</a></span></li><li><span><a href=\"#Non-unique-Keys-and-Values\" data-toc-modified-id=\"Non-unique-Keys-and-Values-1.6\"><span class=\"toc-item-num\">1.6&nbsp;&nbsp;</span>Non-unique Keys and Values</a></span></li><li><span><a href=\"#Non-simple-Keys-and-Values\" data-toc-modified-id=\"Non-simple-Keys-and-Values-1.7\"><span class=\"toc-item-num\">1.7&nbsp;&nbsp;</span>Non-simple Keys and Values</a></span></li></ul></li><li><span><a href=\"#Operations-on-Dictionaries\" data-toc-modified-id=\"Operations-on-Dictionaries-2\"><span class=\"toc-item-num\">2&nbsp;&nbsp;</span>Operations on Dictionaries</a></span><ul class=\"toc-item\"><li><span><a href=\"#Amend-and-Upsert\" data-toc-modified-id=\"Amend-and-Upsert-2.1\"><span class=\"toc-item-num\">2.1&nbsp;&nbsp;</span>Amend and Upsert</a></span></li><li><span><a href=\"#Extracting-a-Sub-Dictionary\" data-toc-modified-id=\"Extracting-a-Sub-Dictionary-2.2\"><span class=\"toc-item-num\">2.2&nbsp;&nbsp;</span>Extracting a Sub-Dictionary</a></span></li><li><span><a href=\"#Removing-Entries\" data-toc-modified-id=\"Removing-Entries-2.3\"><span class=\"toc-item-num\">2.3&nbsp;&nbsp;</span>Removing Entries</a></span></li><li><span><a href=\"#Basic-Operations-on-Dictionaries\" data-toc-modified-id=\"Basic-Operations-on-Dictionaries-2.4\"><span class=\"toc-item-num\">2.4&nbsp;&nbsp;</span>Basic Operations on Dictionaries</a></span></li><li><span><a href=\"#Join-,\" data-toc-modified-id=\"Join-,-2.5\"><span class=\"toc-item-num\">2.5&nbsp;&nbsp;</span>Join <code>,</code></a></span></li><li><span><a href=\"#Coalesce\" data-toc-modified-id=\"Coalesce-2.6\"><span class=\"toc-item-num\">2.6&nbsp;&nbsp;</span>Coalesce</a></span></li><li><span><a href=\"#Arithmetic-And-Relational-Operations\" data-toc-modified-id=\"Arithmetic-And-Relational-Operations-2.7\"><span class=\"toc-item-num\">2.7&nbsp;&nbsp;</span>Arithmetic And Relational Operations</a></span></li></ul></li><li><span><a href=\"#Column-Dictionaries\" data-toc-modified-id=\"Column-Dictionaries-3\"><span class=\"toc-item-num\">3&nbsp;&nbsp;</span>Column Dictionaries</a></span><ul class=\"toc-item\"><li><span><a href=\"#Definition-and-Terminology\" data-toc-modified-id=\"Definition-and-Terminology-3.1\"><span class=\"toc-item-num\">3.1&nbsp;&nbsp;</span>Definition and Terminology</a></span></li><li><span><a href=\"#Simple-Example\" data-toc-modified-id=\"Simple-Example-3.2\"><span class=\"toc-item-num\">3.2&nbsp;&nbsp;</span>Simple Example</a></span></li><li><span><a href=\"#General-Case\" data-toc-modified-id=\"General-Case-3.3\"><span class=\"toc-item-num\">3.3&nbsp;&nbsp;</span>General Case</a></span></li><li><span><a href=\"#Column-Dictionary-with-a-Single-Column\" data-toc-modified-id=\"Column-Dictionary-with-a-Single-Column-3.4\"><span class=\"toc-item-num\">3.4&nbsp;&nbsp;</span>Column Dictionary with a Single Column</a></span></li></ul></li><li><span><a href=\"#Flipping-a-Column-Dictionary\" data-toc-modified-id=\"Flipping-a-Column-Dictionary-4\"><span class=\"toc-item-num\">4&nbsp;&nbsp;</span>Flipping a Column Dictionary</a></span></li></ul></div>"
   ]
  },
  {
   "cell_type": "markdown",
   "metadata": {},
   "source": [
    "## Dictionary Basics"
   ]
  },
  {
   "cell_type": "markdown",
   "metadata": {},
   "source": [
    "### Definition"
   ]
  },
  {
   "cell_type": "markdown",
   "metadata": {},
   "source": [
    "A dictionary, sometimes called an association, is a mapping defined by positional correspondence between a domain **list** of keys and a co-domain **list** of values. Dictionary creation uses the `!` operator – read \"bang\" – in contrast with the syntactic form for lists.\n",
    "\n",
    "`keys!values`\n",
    "\n",
    "All dictionaries have type `99h`.\n",
    "\n",
    "Observe that the q console displays a dictionary as an I/O table."
   ]
  },
  {
   "cell_type": "code",
   "execution_count": 1,
   "metadata": {
    "ExecuteTime": {
     "end_time": "2020-11-19T12:37:43.929960000Z",
     "start_time": "2020-11-19T12:37:42.637Z"
    }
   },
   "outputs": [
    {
     "data": {
      "text/plain": [
       "10| 1.1\n",
       "20| 2.2\n",
       "30| 3.3\n"
      ]
     },
     "execution_count": 1,
     "metadata": {},
     "output_type": "execute_result"
    }
   ],
   "source": [
    "10 20 30!1.1 2.2 3.3"
   ]
  },
  {
   "cell_type": "code",
   "execution_count": 2,
   "metadata": {
    "ExecuteTime": {
     "end_time": "2020-11-19T12:37:43.933354000Z",
     "start_time": "2020-11-19T12:37:42.643Z"
    }
   },
   "outputs": [
    {
     "data": {
      "text/plain": [
       "a| 100\n",
       "b| 200\n",
       "c| 300\n"
      ]
     },
     "execution_count": 2,
     "metadata": {},
     "output_type": "execute_result"
    }
   ],
   "source": [
    "`a`b`c!100 200 300"
   ]
  },
  {
   "cell_type": "code",
   "execution_count": 3,
   "metadata": {
    "ExecuteTime": {
     "end_time": "2020-11-19T12:37:43.938045000Z",
     "start_time": "2020-11-19T12:37:42.646Z"
    }
   },
   "outputs": [
    {
     "data": {
      "text/plain": [
       "Arthur Dent      | 100\n",
       "Zaphod Beeblebrox| 42\n",
       "Ford   Prefect   | 150\n"
      ]
     },
     "execution_count": 3,
     "metadata": {},
     "output_type": "execute_result"
    },
    {
     "data": {
      "text/plain": [
       "1001| Arthur Dent      \n",
       "1002| Zaphod Beeblebrox\n",
       "1003| Ford   Prefect   \n"
      ]
     },
     "execution_count": 3,
     "metadata": {},
     "output_type": "execute_result"
    }
   ],
   "source": [
    "(`Arthur`Dent; `Zaphod`Beeblebrox; `Ford`Prefect)! 100 42 150\n",
    "1001 1002 1003!(`Arthur`Dent; `Zaphod`Beeblebrox; `Ford`Prefect)"
   ]
  },
  {
   "cell_type": "markdown",
   "metadata": {},
   "source": [
    "A dictionary can be decomposed into its key and value lists using the primitives `key` and `value`. The common number of keys or values is returned by `count`."
   ]
  },
  {
   "cell_type": "code",
   "execution_count": 4,
   "metadata": {
    "ExecuteTime": {
     "end_time": "2020-11-19T12:37:43.942303000Z",
     "start_time": "2020-11-19T12:37:42.649Z"
    }
   },
   "outputs": [
    {
     "data": {
      "text/plain": [
       "`a`b`c\n"
      ]
     },
     "execution_count": 4,
     "metadata": {},
     "output_type": "execute_result"
    },
    {
     "data": {
      "text/plain": [
       "100 200 300\n"
      ]
     },
     "execution_count": 4,
     "metadata": {},
     "output_type": "execute_result"
    },
    {
     "data": {
      "text/plain": [
       "3\n"
      ]
     },
     "execution_count": 4,
     "metadata": {},
     "output_type": "execute_result"
    }
   ],
   "source": [
    "d:`a`b`c!100 200 300\n",
    "key d\n",
    "value d\n",
    "count d"
   ]
  },
  {
   "cell_type": "markdown",
   "metadata": {},
   "source": [
    "**When you know that the keys are unique you can apply the \\`u# attribute to the keys.**\n",
    "\n",
    "This will effectively cause the dictionary to be a hash table with the attendant improvement in lookup speed over the default linear lookup."
   ]
  },
  {
   "cell_type": "code",
   "execution_count": 5,
   "metadata": {
    "ExecuteTime": {
     "end_time": "2020-11-19T12:37:43.944800000Z",
     "start_time": "2020-11-19T12:37:42.653Z"
    }
   },
   "outputs": [
    {
     "data": {
      "text/plain": [
       "a| 10\n",
       "b| 20\n",
       "c| 30\n"
      ]
     },
     "execution_count": 5,
     "metadata": {},
     "output_type": "execute_result"
    }
   ],
   "source": [
    "(`u#`a`b`c)!10 20 30"
   ]
  },
  {
   "cell_type": "markdown",
   "metadata": {},
   "source": [
    "**The order of the items in the key and value lists is significant**, just as positional order is significant for lists. Although the I/O assignments and the associated mappings are equivalent regardless of order, differently ordered dictionaries are **not** identical."
   ]
  },
  {
   "cell_type": "code",
   "execution_count": 6,
   "metadata": {
    "ExecuteTime": {
     "end_time": "2020-11-19T12:37:43.947333000Z",
     "start_time": "2020-11-19T12:37:42.656Z"
    }
   },
   "outputs": [
    {
     "data": {
      "text/plain": [
       "0b\n"
      ]
     },
     "execution_count": 6,
     "metadata": {},
     "output_type": "execute_result"
    }
   ],
   "source": [
    "(`a`b`c!10 20 30)~`a`c`b!10 30 20"
   ]
  },
  {
   "cell_type": "code",
   "execution_count": 7,
   "metadata": {
    "ExecuteTime": {
     "end_time": "2020-11-19T12:37:43.949822000Z",
     "start_time": "2020-11-19T12:37:42.660Z"
    }
   },
   "outputs": [
    {
     "data": {
      "text/plain": [
       "0b\n"
      ]
     },
     "execution_count": 7,
     "metadata": {},
     "output_type": "execute_result"
    }
   ],
   "source": [
    "/ `u# is useless here either\n",
    "d1:(`u#`a`b`c)!10 20 30\n",
    "d2:(`u#`a`c`b)!10 30 20\n",
    "d1~d2"
   ]
  },
  {
   "cell_type": "markdown",
   "metadata": {},
   "source": [
    "### Empty and Singleton Dictionaries"
   ]
  },
  {
   "cell_type": "code",
   "execution_count": 8,
   "metadata": {
    "ExecuteTime": {
     "end_time": "2020-11-19T12:37:43.952317000Z",
     "start_time": "2020-11-19T12:37:42.663Z"
    }
   },
   "outputs": [
    {
     "data": {
      "text/plain": []
     },
     "execution_count": 8,
     "metadata": {},
     "output_type": "execute_result"
    }
   ],
   "source": [
    "()!()"
   ]
  },
  {
   "cell_type": "code",
   "execution_count": 9,
   "metadata": {
    "ExecuteTime": {
     "end_time": "2020-11-19T12:37:43.955315000Z",
     "start_time": "2020-11-19T12:37:42.666Z"
    }
   },
   "outputs": [
    {
     "data": {
      "text/plain": []
     },
     "execution_count": 9,
     "metadata": {},
     "output_type": "execute_result"
    }
   ],
   "source": [
    "(`symbol$())!`float$() /typed empty dictionary"
   ]
  },
  {
   "cell_type": "markdown",
   "metadata": {},
   "source": [
    "**Because both the keys and values are required to be lists, you must enlist atoms for a singleton dictionary**"
   ]
  },
  {
   "cell_type": "code",
   "execution_count": 10,
   "metadata": {
    "ExecuteTime": {
     "end_time": "2020-11-19T12:37:43.957851000Z",
     "start_time": "2020-11-19T12:37:42.670Z"
    }
   },
   "outputs": [
    {
     "data": {
      "text/plain": [
       "x| 42\n"
      ]
     },
     "execution_count": 10,
     "metadata": {},
     "output_type": "execute_result"
    }
   ],
   "source": [
    "(enlist `x)!enlist 42"
   ]
  },
  {
   "cell_type": "markdown",
   "metadata": {},
   "source": [
    "The following is **not** a singleton dictionary. This is a common mistake of qbies. Below it is actually an enumerated value for a link column."
   ]
  },
  {
   "cell_type": "code",
   "execution_count": 11,
   "metadata": {
    "ExecuteTime": {
     "end_time": "2020-11-19T12:37:43.960375000Z",
     "start_time": "2020-11-19T12:37:42.673Z"
    }
   },
   "outputs": [
    {
     "data": {
      "text/plain": [
       "`x!42\n"
      ]
     },
     "execution_count": 11,
     "metadata": {},
     "output_type": "execute_result"
    }
   ],
   "source": [
    "`x!42"
   ]
  },
  {
   "cell_type": "markdown",
   "metadata": {},
   "source": [
    "### Lookup"
   ]
  },
  {
   "cell_type": "code",
   "execution_count": 12,
   "metadata": {
    "ExecuteTime": {
     "end_time": "2020-11-19T12:37:43.963756000Z",
     "start_time": "2020-11-19T12:37:42.678Z"
    }
   },
   "outputs": [
    {
     "data": {
      "text/plain": [
       "10\n"
      ]
     },
     "execution_count": 12,
     "metadata": {},
     "output_type": "execute_result"
    },
    {
     "data": {
      "text/plain": [
       "20\n"
      ]
     },
     "execution_count": 12,
     "metadata": {},
     "output_type": "execute_result"
    }
   ],
   "source": [
    "d:`a`b`c!10 20 30\n",
    "d[`a]\n",
    "d `b"
   ]
  },
  {
   "cell_type": "markdown",
   "metadata": {},
   "source": [
    "Similar to list indexing, lookup of a value not in the key list of a dictionary results in a null whose type is that of the initial item in the value list."
   ]
  },
  {
   "cell_type": "code",
   "execution_count": 13,
   "metadata": {
    "ExecuteTime": {
     "end_time": "2020-11-19T12:37:43.966330000Z",
     "start_time": "2020-11-19T12:37:42.681Z"
    }
   },
   "outputs": [
    {
     "data": {
      "text/plain": [
       "0N\n"
      ]
     },
     "execution_count": 13,
     "metadata": {},
     "output_type": "execute_result"
    }
   ],
   "source": [
    "d[`x]"
   ]
  },
  {
   "cell_type": "markdown",
   "metadata": {},
   "source": [
    "As with lists, key lookup in a dictionary is extended item-wise to a simple list of keys.\n",
    "\n",
    "\n"
   ]
  },
  {
   "cell_type": "code",
   "execution_count": 14,
   "metadata": {
    "ExecuteTime": {
     "end_time": "2020-11-19T12:37:43.969674000Z",
     "start_time": "2020-11-19T12:37:42.684Z"
    }
   },
   "outputs": [
    {
     "data": {
      "text/plain": [
       "10 30\n"
      ]
     },
     "execution_count": 14,
     "metadata": {},
     "output_type": "execute_result"
    },
    {
     "data": {
      "text/plain": [
       "10 30\n"
      ]
     },
     "execution_count": 14,
     "metadata": {},
     "output_type": "execute_result"
    }
   ],
   "source": [
    "d[`a`c]\n",
    "ks:`a`c\n",
    "d ks"
   ]
  },
  {
   "cell_type": "markdown",
   "metadata": {},
   "source": [
    "###  Reverse Lookup with Find `?`"
   ]
  },
  {
   "cell_type": "code",
   "execution_count": 15,
   "metadata": {
    "ExecuteTime": {
     "end_time": "2020-11-19T12:37:43.972211000Z",
     "start_time": "2020-11-19T12:37:42.687Z"
    }
   },
   "outputs": [
    {
     "data": {
      "text/plain": [
       "0\n"
      ]
     },
     "execution_count": 15,
     "metadata": {},
     "output_type": "execute_result"
    }
   ],
   "source": [
    "10 20 30 10 40?10"
   ]
  },
  {
   "cell_type": "code",
   "execution_count": 16,
   "metadata": {
    "ExecuteTime": {
     "end_time": "2020-11-19T12:37:43.974717000Z",
     "start_time": "2020-11-19T12:37:42.691Z"
    }
   },
   "outputs": [
    {
     "data": {
      "text/plain": [
       "`a\n"
      ]
     },
     "execution_count": 16,
     "metadata": {},
     "output_type": "execute_result"
    }
   ],
   "source": [
    "d:`a`b`c`a!10 20 30 10\n",
    "d?10"
   ]
  },
  {
   "cell_type": "markdown",
   "metadata": {},
   "source": [
    "The result of Find on an argument not in the value list is a **null whose type matches the initial item in the key list**."
   ]
  },
  {
   "cell_type": "code",
   "execution_count": 17,
   "metadata": {
    "ExecuteTime": {
     "end_time": "2020-11-19T12:37:43.977140000Z",
     "start_time": "2020-11-19T12:37:42.696Z"
    }
   },
   "outputs": [
    {
     "data": {
      "text/plain": [
       "`\n"
      ]
     },
     "execution_count": 17,
     "metadata": {},
     "output_type": "execute_result"
    }
   ],
   "source": [
    "d:`a`b`c`a!10 20 30 10\n",
    "d?40"
   ]
  },
  {
   "cell_type": "markdown",
   "metadata": {},
   "source": [
    "### Dictionary vs. List\n",
    "\n",
    "It is possible to create a dictionary that seemingly behaves very much like an equivalent list by making the positional retrieval explicit."
   ]
  },
  {
   "cell_type": "code",
   "execution_count": 18,
   "metadata": {
    "ExecuteTime": {
     "end_time": "2020-11-19T12:37:43.983096000Z",
     "start_time": "2020-11-19T12:37:42.701Z"
    }
   },
   "outputs": [
    {
     "data": {
      "text/plain": [
       "10\n"
      ]
     },
     "execution_count": 18,
     "metadata": {},
     "output_type": "execute_result"
    },
    {
     "data": {
      "text/plain": [
       "10\n"
      ]
     },
     "execution_count": 18,
     "metadata": {},
     "output_type": "execute_result"
    },
    {
     "data": {
      "text/plain": [
       "20 30\n"
      ]
     },
     "execution_count": 18,
     "metadata": {},
     "output_type": "execute_result"
    },
    {
     "data": {
      "text/plain": [
       "20 30\n"
      ]
     },
     "execution_count": 18,
     "metadata": {},
     "output_type": "execute_result"
    },
    {
     "data": {
      "text/plain": [
       "0b\n"
      ]
     },
     "execution_count": 18,
     "metadata": {},
     "output_type": "execute_result"
    }
   ],
   "source": [
    "L:10 20 30\n",
    "d:0 1 2!10 20 30\n",
    "L 0\n",
    "d 0\n",
    "L 1 2\n",
    "d 1 2\n",
    "d~L"
   ]
  },
  {
   "cell_type": "markdown",
   "metadata": {},
   "source": [
    "**Sparse lists**"
   ]
  },
  {
   "cell_type": "code",
   "execution_count": 19,
   "metadata": {
    "ExecuteTime": {
     "end_time": "2020-11-19T12:37:43.985626000Z",
     "start_time": "2020-11-19T12:37:42.704Z"
    }
   },
   "outputs": [
    {
     "data": {
      "text/plain": [
       "0      | 110\n",
       "100    | 20\n",
       "500000 | 30\n",
       "99     | 200\n",
       "1000000| 300\n"
      ]
     },
     "execution_count": 19,
     "metadata": {},
     "output_type": "execute_result"
    }
   ],
   "source": [
    "d1:0 100 500000!10 20 30\n",
    "d2: 0 99 1000000!100 200 300\n",
    "d1 + d2"
   ]
  },
  {
   "cell_type": "markdown",
   "metadata": {},
   "source": [
    "### Non-unique Keys and Values"
   ]
  },
  {
   "cell_type": "markdown",
   "metadata": {},
   "source": [
    "Non-unique keys are tolerated but lookup only sees the first occurrence."
   ]
  },
  {
   "cell_type": "code",
   "execution_count": 20,
   "metadata": {
    "ExecuteTime": {
     "end_time": "2020-11-19T12:37:43.988121000Z",
     "start_time": "2020-11-19T12:37:42.709Z"
    }
   },
   "outputs": [
    {
     "data": {
      "text/plain": [
       "10\n"
      ]
     },
     "execution_count": 20,
     "metadata": {},
     "output_type": "execute_result"
    }
   ],
   "source": [
    "ddup:`a`b`a`c!10 20 30 20\n",
    "ddup[`a]"
   ]
  },
  {
   "cell_type": "code",
   "execution_count": 21,
   "metadata": {
    "ExecuteTime": {
     "end_time": "2020-11-19T12:37:43.991475000Z",
     "start_time": "2020-11-19T12:37:42.713Z"
    }
   },
   "outputs": [
    {
     "data": {
      "text/plain": [
       "`a\n"
      ]
     },
     "execution_count": 21,
     "metadata": {},
     "output_type": "execute_result"
    },
    {
     "data": {
      "text/plain": [
       "`b\n"
      ]
     },
     "execution_count": 21,
     "metadata": {},
     "output_type": "execute_result"
    }
   ],
   "source": [
    "ddup?30\n",
    "ddup?20"
   ]
  },
  {
   "cell_type": "markdown",
   "metadata": {},
   "source": [
    "You can find all keys mapping to a given value as follows."
   ]
  },
  {
   "cell_type": "code",
   "execution_count": 22,
   "metadata": {
    "ExecuteTime": {
     "end_time": "2020-11-19T12:37:43.993859000Z",
     "start_time": "2020-11-19T12:37:42.716Z"
    }
   },
   "outputs": [
    {
     "data": {
      "text/plain": [
       "`a`d\n"
      ]
     },
     "execution_count": 22,
     "metadata": {},
     "output_type": "execute_result"
    }
   ],
   "source": [
    "d:`a`b`c`d!10 20 30 10\n",
    "where 10=d"
   ]
  },
  {
   "cell_type": "markdown",
   "metadata": {},
   "source": [
    "### Non-simple Keys and Values\n",
    "\n",
    "Neither the key nor value lists of a dictionary are required to be atoms or uniform. Either can be nested lists."
   ]
  },
  {
   "cell_type": "code",
   "execution_count": 23,
   "metadata": {
    "ExecuteTime": {
     "end_time": "2020-11-19T12:37:43.996402000Z",
     "start_time": "2020-11-19T12:37:42.719Z"
    }
   },
   "outputs": [
    {
     "data": {
      "text/plain": [
       "`a`b  | 10\n",
       "`c`d`e| 20\n",
       ",`f   | 30\n"
      ]
     },
     "execution_count": 23,
     "metadata": {},
     "output_type": "execute_result"
    }
   ],
   "source": [
    "d:(`a`b; `c`d`e; enlist `f)!10 20 30\n",
    "d"
   ]
  },
  {
   "cell_type": "code",
   "execution_count": 24,
   "metadata": {
    "ExecuteTime": {
     "end_time": "2020-11-19T12:37:44.002359000Z",
     "start_time": "2020-11-19T12:37:42.723Z"
    }
   },
   "outputs": [
    {
     "data": {
      "text/plain": [
       "30\n"
      ]
     },
     "execution_count": 24,
     "metadata": {},
     "output_type": "execute_result"
    },
    {
     "data": {
      "text/plain": [
       "`c`d`e\n"
      ]
     },
     "execution_count": 24,
     "metadata": {},
     "output_type": "execute_result"
    },
    {
     "data": {
      "text/plain": [
       "30 40 50\n"
      ]
     },
     "execution_count": 24,
     "metadata": {},
     "output_type": "execute_result"
    },
    {
     "data": {
      "text/plain": [
       "`b\n"
      ]
     },
     "execution_count": 24,
     "metadata": {},
     "output_type": "execute_result"
    },
    {
     "data": {
      "text/plain": [
       "`c\n"
      ]
     },
     "execution_count": 24,
     "metadata": {},
     "output_type": "execute_result"
    }
   ],
   "source": [
    "d `f\n",
    "d?20\n",
    "d:`a`b`c!(10 20; 30 40 50; enlist 60)\n",
    "d `b\n",
    "d?30 40 50\n",
    "d?enlist 60"
   ]
  },
  {
   "cell_type": "code",
   "execution_count": 25,
   "metadata": {
    "ExecuteTime": {
     "end_time": "2020-11-19T12:37:44.005309000Z",
     "start_time": "2020-11-19T12:37:42.726Z"
    }
   },
   "outputs": [
    {
     "data": {
      "text/plain": [
       "0b\n"
      ]
     },
     "execution_count": 25,
     "metadata": {},
     "output_type": "execute_result"
    }
   ],
   "source": [
    "(enlist `f) ~ `f"
   ]
  },
  {
   "cell_type": "markdown",
   "metadata": {},
   "source": [
    "Be forewarned that an irregular key or value list – i.e., items do not conform – will confound lookup or reverse lookup, respectively."
   ]
  },
  {
   "cell_type": "code",
   "execution_count": 26,
   "metadata": {
    "ExecuteTime": {
     "end_time": "2020-11-19T12:37:44.007887000Z",
     "start_time": "2020-11-19T12:37:42.730Z"
    }
   },
   "outputs": [
    {
     "data": {
      "text/plain": [
       "1 2  | 10\n",
       "3 4 5| 20\n",
       "6    | 30\n",
       "7 8  | 40\n"
      ]
     },
     "execution_count": 26,
     "metadata": {},
     "output_type": "execute_result"
    }
   ],
   "source": [
    "dwhackey:(1 2; 3 4 5; 6; 7 8)!10 20 30 40 / atom 6 is whack\n",
    "dwhackey"
   ]
  },
  {
   "cell_type": "code",
   "execution_count": 27,
   "metadata": {
    "ExecuteTime": {
     "end_time": "2020-11-19T12:37:44.011112000Z",
     "start_time": "2020-11-19T12:37:42.733Z"
    }
   },
   "outputs": [
    {
     "data": {
      "text/plain": [
       "10\n"
      ]
     },
     "execution_count": 27,
     "metadata": {},
     "output_type": "execute_result"
    },
    {
     "data": {
      "text/plain": [
       "0N\n"
      ]
     },
     "execution_count": 27,
     "metadata": {},
     "output_type": "execute_result"
    }
   ],
   "source": [
    "dwhackey 1 2\n",
    "dwhackey 6"
   ]
  },
  {
   "cell_type": "code",
   "execution_count": 28,
   "metadata": {
    "ExecuteTime": {
     "end_time": "2020-11-19T12:37:44.013739000Z",
     "start_time": "2020-11-19T12:37:42.735Z"
    }
   },
   "outputs": [
    {
     "data": {
      "text/plain": [
       "1 2\n",
       "3 4 5\n",
       "6\n",
       "7 8\n"
      ]
     },
     "execution_count": 28,
     "metadata": {},
     "output_type": "execute_result"
    }
   ],
   "source": [
    "key dwhackey"
   ]
  },
  {
   "cell_type": "code",
   "execution_count": 29,
   "metadata": {
    "ExecuteTime": {
     "end_time": "2020-11-19T12:37:44.017127000Z",
     "start_time": "2020-11-19T12:37:42.742Z"
    }
   },
   "outputs": [
    {
     "data": {
      "text/plain": [
       "20\n"
      ]
     },
     "execution_count": 29,
     "metadata": {},
     "output_type": "execute_result"
    },
    {
     "data": {
      "text/plain": [
       "0N\n"
      ]
     },
     "execution_count": 29,
     "metadata": {},
     "output_type": "execute_result"
    }
   ],
   "source": [
    "dwhackval:10 20 30 40!(1 2; 3 4 5; 6; 7 8) / atom 6 is whack\n",
    "dwhackval?3 4 5\n",
    "dwhackval?6"
   ]
  },
  {
   "cell_type": "markdown",
   "metadata": {},
   "source": [
    "The observed behavior is that **lookup in either direction fails at the first item of different shape**."
   ]
  },
  {
   "cell_type": "markdown",
   "metadata": {},
   "source": [
    "## Operations on Dictionaries\n",
    "### Amend and Upsert"
   ]
  },
  {
   "cell_type": "code",
   "execution_count": 30,
   "metadata": {
    "ExecuteTime": {
     "end_time": "2020-11-19T12:37:44.019661000Z",
     "start_time": "2020-11-19T12:37:42.746Z"
    }
   },
   "outputs": [
    {
     "data": {
      "text/plain": [
       "a| 10\n",
       "b| 42\n",
       "c| 30\n"
      ]
     },
     "execution_count": 30,
     "metadata": {},
     "output_type": "execute_result"
    }
   ],
   "source": [
    "d:`a`b`c!10 20 30\n",
    "d[`b]:42\n",
    "d"
   ]
  },
  {
   "cell_type": "markdown",
   "metadata": {},
   "source": [
    "In contrast to lists, dictionaries **can** be extended via assignment."
   ]
  },
  {
   "cell_type": "code",
   "execution_count": 31,
   "metadata": {
    "ExecuteTime": {
     "end_time": "2020-11-19T12:37:44.022196000Z",
     "start_time": "2020-11-19T12:37:42.750Z"
    }
   },
   "outputs": [
    {
     "data": {
      "text/plain": [
       "a| 10\n",
       "b| 20\n",
       "c| 30\n",
       "x| 42\n"
      ]
     },
     "execution_count": 31,
     "metadata": {},
     "output_type": "execute_result"
    }
   ],
   "source": [
    "d:`a`b`c!10 20 30\n",
    "d[`x]:42\n",
    "d"
   ]
  },
  {
   "cell_type": "markdown",
   "metadata": {},
   "source": [
    "This update/insert behavior is called _upsert semantics_. Because tables and keyed tables are dictionaries, upsert semantics pervade kdb+."
   ]
  },
  {
   "cell_type": "markdown",
   "metadata": {},
   "source": [
    "### Extracting a Sub-Dictionary\n",
    "\n",
    "Dictionary lookup on a key or a list of keys returns the associated values. It is possible to extract both keys and values using an overload of the Take operator `#`. The left operand is a **list** of keys, the right operand is the source dictionary and the result is a sub-dictionary for the specified keys. Viewed as a **mapping**, the result is the original restricted to the specified keys."
   ]
  },
  {
   "cell_type": "code",
   "execution_count": 32,
   "metadata": {
    "ExecuteTime": {
     "end_time": "2020-11-19T12:37:44.024666000Z",
     "start_time": "2020-11-19T12:37:42.755Z"
    }
   },
   "outputs": [
    {
     "data": {
      "text/plain": [
       "10 30\n"
      ]
     },
     "execution_count": 32,
     "metadata": {},
     "output_type": "execute_result"
    }
   ],
   "source": [
    "d:`a`b`c!10 20 30\n",
    "d `a`c"
   ]
  },
  {
   "cell_type": "code",
   "execution_count": 33,
   "metadata": {
    "ExecuteTime": {
     "end_time": "2020-11-19T12:37:44.027087000Z",
     "start_time": "2020-11-19T12:37:42.761Z"
    }
   },
   "outputs": [
    {
     "data": {
      "text/plain": [
       "a| 10\n",
       "c| 30\n"
      ]
     },
     "execution_count": 33,
     "metadata": {},
     "output_type": "execute_result"
    }
   ],
   "source": [
    "`a`c#d"
   ]
  },
  {
   "cell_type": "code",
   "execution_count": 34,
   "metadata": {
    "ExecuteTime": {
     "end_time": "2020-11-19T12:37:44.029639000Z",
     "start_time": "2020-11-19T12:37:42.764Z"
    }
   },
   "outputs": [
    {
     "data": {
      "text/plain": [
       "c| 30\n"
      ]
     },
     "execution_count": 34,
     "metadata": {},
     "output_type": "execute_result"
    }
   ],
   "source": [
    "(enlist `c)#d"
   ]
  },
  {
   "cell_type": "code",
   "execution_count": 35,
   "metadata": {
    "ExecuteTime": {
     "end_time": "2020-11-19T12:37:44.032161000Z",
     "start_time": "2020-11-19T12:37:42.767Z"
    }
   },
   "outputs": [
    {
     "data": {
      "text/plain": [
       "a| 10\n",
       "c| 20\n"
      ]
     },
     "execution_count": 35,
     "metadata": {},
     "output_type": "execute_result"
    }
   ],
   "source": [
    "ddup:`a`b`a`c!10 20 30 20\n",
    "`a`c#ddup"
   ]
  },
  {
   "cell_type": "code",
   "execution_count": 36,
   "metadata": {
    "ExecuteTime": {
     "end_time": "2020-11-19T12:37:44.034657000Z",
     "start_time": "2020-11-19T12:37:42.770Z"
    }
   },
   "outputs": [
    {
     "data": {
      "text/plain": [
       "arthur dent      | 100\n",
       "zaphod beebelbrox| 42\n"
      ]
     },
     "execution_count": 36,
     "metadata": {},
     "output_type": "execute_result"
    }
   ],
   "source": [
    "dns:(`arthur`dent; `ford`prefect; `zaphod`beebelbrox)!100 150 42\n",
    "(`arthur`dent; `zaphod`beebelbrox)#dns"
   ]
  },
  {
   "cell_type": "markdown",
   "metadata": {},
   "source": [
    "### Removing Entries"
   ]
  },
  {
   "cell_type": "markdown",
   "metadata": {},
   "source": [
    "The adjoint operation to `#` is `_`, which removes key-value pairs. Its syntax is the same – i.e., a list of keys as the left operand and a dictionary on the right – and it returns the dictionary obtained by removing the key-value pairs for the specified keys."
   ]
  },
  {
   "cell_type": "markdown",
   "metadata": {},
   "source": [
    "Whitespace is required to the left of `_` if the left operand is a variable since `_` is a valid terminal name character."
   ]
  },
  {
   "cell_type": "code",
   "execution_count": 37,
   "metadata": {
    "ExecuteTime": {
     "end_time": "2020-11-19T12:37:44.038009000Z",
     "start_time": "2020-11-19T12:37:42.776Z"
    }
   },
   "outputs": [
    {
     "data": {
      "text/plain": [
       "b| 20\n"
      ]
     },
     "execution_count": 37,
     "metadata": {},
     "output_type": "execute_result"
    },
    {
     "data": {
      "text/plain": [
       "a| 10\n",
       "c| 30\n"
      ]
     },
     "execution_count": 37,
     "metadata": {},
     "output_type": "execute_result"
    }
   ],
   "source": [
    "d:`a`b`c!10 20 30\n",
    "`a`c _ d\n",
    "(enlist `b) _ d"
   ]
  },
  {
   "cell_type": "markdown",
   "metadata": {},
   "source": [
    "Observe that all occurrences of a key are removed and that attempting to remove a key that does not exist has no effect."
   ]
  },
  {
   "cell_type": "code",
   "execution_count": 38,
   "metadata": {
    "ExecuteTime": {
     "end_time": "2020-11-19T12:37:44.041328000Z",
     "start_time": "2020-11-19T12:37:42.780Z"
    }
   },
   "outputs": [
    {
     "data": {
      "text/plain": [
       "b| 20\n"
      ]
     },
     "execution_count": 38,
     "metadata": {},
     "output_type": "execute_result"
    },
    {
     "data": {
      "text/plain": [
       "b| 20\n",
       "c| 30\n"
      ]
     },
     "execution_count": 38,
     "metadata": {},
     "output_type": "execute_result"
    }
   ],
   "source": [
    "d:`a`b`c`a!10 20 30 40\n",
    "`a`c _ d\n",
    "`x`a _ d"
   ]
  },
  {
   "cell_type": "code",
   "execution_count": 39,
   "metadata": {
    "ExecuteTime": {
     "end_time": "2020-11-19T12:37:44.043735000Z",
     "start_time": "2020-11-19T12:37:42.783Z"
    }
   },
   "outputs": [
    {
     "data": {
      "text/plain": []
     },
     "execution_count": 39,
     "metadata": {},
     "output_type": "execute_result"
    }
   ],
   "source": [
    "d:`a`b`c!10 20 30\n",
    "`a`b`c _ d"
   ]
  },
  {
   "cell_type": "code",
   "execution_count": 40,
   "metadata": {
    "ExecuteTime": {
     "end_time": "2020-11-19T12:37:44.046259000Z",
     "start_time": "2020-11-19T12:37:42.786Z"
    }
   },
   "outputs": [
    {
     "data": {
      "text/plain": [
       "\"(`symbol$())!`long$()\"\n"
      ]
     },
     "execution_count": 40,
     "metadata": {},
     "output_type": "execute_result"
    }
   ],
   "source": [
    ".Q.s1 `a`b`c _ d"
   ]
  },
  {
   "cell_type": "markdown",
   "metadata": {},
   "source": [
    "The binary keyword `cut` is the same as this overload of `_` on a dictionary."
   ]
  },
  {
   "cell_type": "code",
   "execution_count": 41,
   "metadata": {
    "ExecuteTime": {
     "end_time": "2020-11-19T12:37:44.048757000Z",
     "start_time": "2020-11-19T12:37:42.789Z"
    }
   },
   "outputs": [
    {
     "data": {
      "text/plain": [
       "b| 20\n"
      ]
     },
     "execution_count": 41,
     "metadata": {},
     "output_type": "execute_result"
    }
   ],
   "source": [
    "`a`c cut d"
   ]
  },
  {
   "cell_type": "markdown",
   "metadata": {},
   "source": [
    "There is another overload of `_` with a dictionary on the left and a single key on the right that deletes just that key, which is seldom used."
   ]
  },
  {
   "cell_type": "code",
   "execution_count": 42,
   "metadata": {
    "ExecuteTime": {
     "end_time": "2020-11-19T12:37:44.051253000Z",
     "start_time": "2020-11-19T12:37:42.793Z"
    }
   },
   "outputs": [
    {
     "data": {
      "text/plain": [
       "a| 10\n",
       "c| 30\n"
      ]
     },
     "execution_count": 42,
     "metadata": {},
     "output_type": "execute_result"
    }
   ],
   "source": [
    "d _ `b"
   ]
  },
  {
   "cell_type": "markdown",
   "metadata": {},
   "source": [
    "### Basic Operations on Dictionaries"
   ]
  },
  {
   "cell_type": "markdown",
   "metadata": {},
   "source": [
    "Because a dictionary is a map, it can be composed with another map to obtain a dictionary whose key-value association is the composite of the original and the new map. Another way to say this is that applying a function to a dictionary effectively applies it to **the value list**. Unary functions are straightforward."
   ]
  },
  {
   "cell_type": "code",
   "execution_count": 43,
   "metadata": {
    "ExecuteTime": {
     "end_time": "2020-11-19T12:37:44.054250000Z",
     "start_time": "2020-11-19T12:37:42.797Z"
    }
   },
   "outputs": [
    {
     "data": {
      "text/plain": [
       "a| -10\n",
       "b| -20\n",
       "c| -30\n"
      ]
     },
     "execution_count": 43,
     "metadata": {},
     "output_type": "execute_result"
    }
   ],
   "source": [
    "d:`a`b`c!10 20 30\n",
    "neg d"
   ]
  },
  {
   "cell_type": "code",
   "execution_count": 44,
   "metadata": {
    "ExecuteTime": {
     "end_time": "2020-11-19T12:37:44.057660000Z",
     "start_time": "2020-11-19T12:37:42.800Z"
    }
   },
   "outputs": [
    {
     "data": {
      "text/plain": [
       "a| 20\n",
       "b| 40\n",
       "c| 60\n"
      ]
     },
     "execution_count": 44,
     "metadata": {},
     "output_type": "execute_result"
    },
    {
     "data": {
      "text/plain": [
       "a| 0\n",
       "b| 1\n",
       "c| 0\n"
      ]
     },
     "execution_count": 44,
     "metadata": {},
     "output_type": "execute_result"
    }
   ],
   "source": [
    "2*d\n",
    "d=20\n",
    "f:{x*x} d"
   ]
  },
  {
   "cell_type": "markdown",
   "metadata": {},
   "source": [
    "When the domains of two dictionary maps are identical, performing a binary operation is also straightforward: do it value-with-value along the keys"
   ]
  },
  {
   "cell_type": "code",
   "execution_count": 45,
   "metadata": {
    "ExecuteTime": {
     "end_time": "2020-11-19T12:37:44.060175000Z",
     "start_time": "2020-11-19T12:37:42.803Z"
    }
   },
   "outputs": [
    {
     "data": {
      "text/plain": [
       "a| 11\n",
       "b| 22\n",
       "c| 33\n"
      ]
     },
     "execution_count": 45,
     "metadata": {},
     "output_type": "execute_result"
    }
   ],
   "source": [
    "d1:`a`b`c!1 2 3\n",
    "d2:`a`b`c!10 20 30\n",
    "d1+d2"
   ]
  },
  {
   "cell_type": "code",
   "execution_count": 46,
   "metadata": {
    "ExecuteTime": {
     "end_time": "2020-11-19T12:37:44.062681000Z",
     "start_time": "2020-11-19T12:37:42.807Z"
    }
   },
   "outputs": [
    {
     "data": {
      "text/plain": [
       "a| 1\n",
       "b| 22\n",
       "c| 33\n",
       "d| 40\n"
      ]
     },
     "execution_count": 46,
     "metadata": {},
     "output_type": "execute_result"
    }
   ],
   "source": [
    "d1:`a`b`c!1 2 3\n",
    "d2:`b`c`d!20 30 40\n",
    "d1+d2"
   ]
  },
  {
   "cell_type": "markdown",
   "metadata": {},
   "source": [
    "### Join `,`"
   ]
  },
  {
   "cell_type": "markdown",
   "metadata": {},
   "source": [
    "The Join operator `,` merges two dictionaries. Clearly on disjoint keys the corresponding values should be carried over."
   ]
  },
  {
   "cell_type": "code",
   "execution_count": 47,
   "metadata": {
    "ExecuteTime": {
     "end_time": "2020-11-19T12:37:44.065201000Z",
     "start_time": "2020-11-19T12:37:42.811Z"
    }
   },
   "outputs": [
    {
     "data": {
      "text/plain": [
       "a| 10\n",
       "b| 20\n",
       "c| 30\n",
       "x| 40\n",
       "y| 50\n"
      ]
     },
     "execution_count": 47,
     "metadata": {},
     "output_type": "execute_result"
    }
   ],
   "source": [
    "d1:`a`b`c!10 20 30\n",
    "d2:`x`y!40 50\n",
    "d1,d2"
   ]
  },
  {
   "cell_type": "markdown",
   "metadata": {},
   "source": [
    "On common keys, since q is **right-to-left**, the value of the right operand prevails over that of the left. Observe that Join is not commutative: **order matters**."
   ]
  },
  {
   "cell_type": "code",
   "execution_count": 48,
   "metadata": {
    "ExecuteTime": {
     "end_time": "2020-11-19T12:37:44.067752000Z",
     "start_time": "2020-11-19T12:37:42.815Z"
    }
   },
   "outputs": [
    {
     "data": {
      "text/plain": [
       "a| 100\n",
       "b| 200\n",
       "c| 300\n"
      ]
     },
     "execution_count": 48,
     "metadata": {},
     "output_type": "execute_result"
    }
   ],
   "source": [
    "d1:`a`b`c!10 20 30\n",
    "d2:`a`b`c!100 200 300\n",
    "d1,d2"
   ]
  },
  {
   "cell_type": "markdown",
   "metadata": {},
   "source": [
    "Lo and behold, the entire right operand has been **upserted** into the left operand"
   ]
  },
  {
   "cell_type": "code",
   "execution_count": 49,
   "metadata": {
    "ExecuteTime": {
     "end_time": "2020-11-19T12:37:44.070326000Z",
     "start_time": "2020-11-19T12:37:42.818Z"
    }
   },
   "outputs": [
    {
     "data": {
      "text/plain": [
       "a| 10\n",
       "b| 20\n",
       "c| 300\n",
       "d| 400\n"
      ]
     },
     "execution_count": 49,
     "metadata": {},
     "output_type": "execute_result"
    }
   ],
   "source": [
    "d1:`a`b`c!10 20 30\n",
    "d2:`c`d!300 400\n",
    "d1,d2"
   ]
  },
  {
   "cell_type": "markdown",
   "metadata": {},
   "source": [
    "This is equivalent to each key-value association being upserted into the left"
   ]
  },
  {
   "cell_type": "code",
   "execution_count": 50,
   "metadata": {
    "ExecuteTime": {
     "end_time": "2020-11-19T12:37:44.072808000Z",
     "start_time": "2020-11-19T12:37:42.821Z"
    }
   },
   "outputs": [
    {
     "data": {
      "text/plain": [
       "a| 10\n",
       "b| 20\n",
       "c| 300\n",
       "d| 400\n"
      ]
     },
     "execution_count": 50,
     "metadata": {},
     "output_type": "execute_result"
    }
   ],
   "source": [
    "d1:`a`b`c!10 20 30\n",
    "d1[`c]:300\n",
    "d1[`d]:400\n",
    "d1"
   ]
  },
  {
   "cell_type": "markdown",
   "metadata": {},
   "source": [
    "### Coalesce\n",
    "\n",
    "The Coalesce operator is related to `,` in that it employs upsert semantics to merge two dictionaries. The difference is that right values prevail over left except for nulls in the right."
   ]
  },
  {
   "cell_type": "code",
   "execution_count": 51,
   "metadata": {
    "ExecuteTime": {
     "end_time": "2020-11-19T12:37:44.075249000Z",
     "start_time": "2020-11-19T12:37:42.827Z"
    }
   },
   "outputs": [
    {
     "data": {
      "text/plain": [
       "a| 10\n",
       "b| 200\n",
       "c| 30\n",
       "d| 400\n"
      ]
     },
     "execution_count": 51,
     "metadata": {},
     "output_type": "execute_result"
    }
   ],
   "source": [
    "d1:`a`b`c!10 0N 30\n",
    "d2:`b`c`d!200 0N 400\n",
    "d1^d2"
   ]
  },
  {
   "cell_type": "code",
   "execution_count": 52,
   "metadata": {
    "ExecuteTime": {
     "end_time": "2020-11-19T12:37:44.077698000Z",
     "start_time": "2020-11-19T12:37:42.831Z"
    }
   },
   "outputs": [
    {
     "data": {
      "text/plain": [
       "a| 10\n",
       "b| 200\n",
       "c| \n",
       "d| 400\n"
      ]
     },
     "execution_count": 52,
     "metadata": {},
     "output_type": "execute_result"
    }
   ],
   "source": [
    "d1,d2"
   ]
  },
  {
   "cell_type": "code",
   "execution_count": 53,
   "metadata": {
    "ExecuteTime": {
     "end_time": "2020-11-19T12:37:44.080211000Z",
     "start_time": "2020-11-19T12:37:42.833Z"
    }
   },
   "outputs": [
    {
     "data": {
      "text/plain": [
       "a| 10\n",
       "b| \n",
       "c| \n",
       "d| 400\n"
      ]
     },
     "execution_count": 53,
     "metadata": {},
     "output_type": "execute_result"
    }
   ],
   "source": [
    "d1+d2"
   ]
  },
  {
   "cell_type": "markdown",
   "metadata": {},
   "source": [
    "### Arithmetic And Relational Operations"
   ]
  },
  {
   "cell_type": "markdown",
   "metadata": {},
   "source": [
    "Following the general pattern, when an arithmetic operation is performed on dictionaries, the operation is performed on the common domain elements and the identity element implied elsewhere."
   ]
  },
  {
   "cell_type": "code",
   "execution_count": 54,
   "metadata": {
    "ExecuteTime": {
     "end_time": "2020-11-19T12:37:44.082753000Z",
     "start_time": "2020-11-19T12:37:42.838Z"
    }
   },
   "outputs": [
    {
     "data": {
      "text/plain": [
       "a| 10\n",
       "b| 220\n",
       "c| 330\n",
       "d| 400\n"
      ]
     },
     "execution_count": 54,
     "metadata": {},
     "output_type": "execute_result"
    }
   ],
   "source": [
    "d1:`a`b`c!10 20 30\n",
    "d2:`b`c`d!200 300 400\n",
    "d1+d2"
   ]
  },
  {
   "cell_type": "markdown",
   "metadata": {},
   "source": [
    "For equality and comparison operations on dictionaries, the indicated operation is performed over the common keys. On disjoint keys, the appropriate null is effectively substituted for missing values. **Due to all nulls being equal, a null value on a disjoint key will report 1b under equality test.**"
   ]
  },
  {
   "cell_type": "code",
   "execution_count": 55,
   "metadata": {
    "ExecuteTime": {
     "end_time": "2020-11-19T12:37:44.087006000Z",
     "start_time": "2020-11-19T12:37:42.841Z"
    }
   },
   "outputs": [
    {
     "data": {
      "text/plain": [
       "a| 0\n",
       "b| 1\n",
       "c| 0\n",
       "d| 0\n"
      ]
     },
     "execution_count": 55,
     "metadata": {},
     "output_type": "execute_result"
    },
    {
     "data": {
      "text/plain": [
       "a| 1\n",
       "b| 1\n",
       "c| 0\n",
       "d| 1\n"
      ]
     },
     "execution_count": 55,
     "metadata": {},
     "output_type": "execute_result"
    },
    {
     "data": {
      "text/plain": [
       "a| 0\n",
       "b| 0\n",
       "c| 1\n",
       "d| 1\n"
      ]
     },
     "execution_count": 55,
     "metadata": {},
     "output_type": "execute_result"
    }
   ],
   "source": [
    "(`a`b`c!10 20 30)=`b`c`d!20 300 400\n",
    "(`a`b`c!0N 20 30)=`b`c`d!20 300 0N\n",
    "(`a`b`c!10 20 30)<`b`c`d!20 300 400"
   ]
  },
  {
   "cell_type": "markdown",
   "metadata": {},
   "source": [
    "## Column Dictionaries\n"
   ]
  },
  {
   "cell_type": "markdown",
   "metadata": {},
   "source": [
    "### Definition and Terminology\n",
    "\n",
    "A very useful type of dictionary maps a simple list of symbols to a rectangular list of lists."
   ]
  },
  {
   "cell_type": "code",
   "execution_count": 56,
   "metadata": {
    "ExecuteTime": {
     "end_time": "2020-11-19T12:37:44.089491000Z",
     "start_time": "2020-11-19T12:37:42.845Z"
    }
   },
   "outputs": [
    {
     "data": {
      "text/plain": [
       "c1| a  b  c \n",
       "c2| 10 20 30\n"
      ]
     },
     "execution_count": 56,
     "metadata": {},
     "output_type": "execute_result"
    }
   ],
   "source": [
    "`c1`c2!(`a`b`c; 10 20 30)"
   ]
  },
  {
   "cell_type": "markdown",
   "metadata": {},
   "source": [
    "Interpreting each symbol as a name and the corresponding list as a vector of column values, we call such a list a column dictionary. A general column dictionary has the form,\n",
    "\n",
    "$c_1\\dots c_n!(v_1;\\dots;v_n)$"
   ]
  },
  {
   "cell_type": "markdown",
   "metadata": {},
   "source": [
    "### Simple Example"
   ]
  },
  {
   "cell_type": "code",
   "execution_count": 57,
   "metadata": {
    "ExecuteTime": {
     "end_time": "2020-11-19T12:37:44.092025000Z",
     "start_time": "2020-11-19T12:37:42.848Z"
    }
   },
   "outputs": [
    {
     "data": {
      "text/plain": [
       "name| Dent Beeblebrox Prefect\n",
       "iq  | 42   98         126    \n"
      ]
     },
     "execution_count": 57,
     "metadata": {},
     "output_type": "execute_result"
    }
   ],
   "source": [
    "travelers:`name`iq!(`Dent`Beeblebrox`Prefect;42 98 126)\n",
    "travelers"
   ]
  },
  {
   "cell_type": "code",
   "execution_count": 58,
   "metadata": {
    "ExecuteTime": {
     "end_time": "2020-11-19T12:37:44.094566000Z",
     "start_time": "2020-11-19T12:37:42.851Z"
    }
   },
   "outputs": [
    {
     "data": {
      "text/plain": [
       "`Dent`Beeblebrox`Prefect\n"
      ]
     },
     "execution_count": 58,
     "metadata": {},
     "output_type": "execute_result"
    }
   ],
   "source": [
    "travelers[`name]"
   ]
  },
  {
   "cell_type": "code",
   "execution_count": 59,
   "metadata": {
    "ExecuteTime": {
     "end_time": "2020-11-19T12:37:44.097957000Z",
     "start_time": "2020-11-19T12:37:42.854Z"
    }
   },
   "outputs": [
    {
     "data": {
      "text/plain": [
       "`Beeblebrox\n"
      ]
     },
     "execution_count": 59,
     "metadata": {},
     "output_type": "execute_result"
    },
    {
     "data": {
      "text/plain": [
       "126\n"
      ]
     },
     "execution_count": 59,
     "metadata": {},
     "output_type": "execute_result"
    }
   ],
   "source": [
    "travelers[`name][1]\n",
    "travelers[`iq][2]"
   ]
  },
  {
   "cell_type": "code",
   "execution_count": 60,
   "metadata": {
    "ExecuteTime": {
     "end_time": "2020-11-19T12:37:44.101356000Z",
     "start_time": "2020-11-19T12:37:42.857Z"
    }
   },
   "outputs": [
    {
     "data": {
      "text/plain": [
       "`Beeblebrox\n"
      ]
     },
     "execution_count": 60,
     "metadata": {},
     "output_type": "execute_result"
    },
    {
     "data": {
      "text/plain": [
       "126\n"
      ]
     },
     "execution_count": 60,
     "metadata": {},
     "output_type": "execute_result"
    }
   ],
   "source": [
    "travelers[`name; 1]\n",
    "travelers[`iq; 2]"
   ]
  },
  {
   "cell_type": "markdown",
   "metadata": {},
   "source": [
    "### General Case"
   ]
  },
  {
   "cell_type": "markdown",
   "metadata": {},
   "source": [
    "The indexing-at-depth notation suggests thinking of the column dictionary as a two-dimensional data structure, indexed by column name and column position. Alternatively, it is a positional map of two variables with symbolic name in the first parameter and column index in the second."
   ]
  },
  {
   "cell_type": "code",
   "execution_count": 61,
   "metadata": {
    "ExecuteTime": {
     "end_time": "2020-11-19T12:37:44.104469000Z",
     "start_time": "2020-11-19T12:37:42.860Z"
    }
   },
   "outputs": [
    {
     "data": {
      "text/plain": [
       "name| `Prefect\n",
       "iq  | 126\n"
      ]
     },
     "execution_count": 61,
     "metadata": {},
     "output_type": "execute_result"
    }
   ],
   "source": [
    "travelers[; 2]"
   ]
  },
  {
   "cell_type": "markdown",
   "metadata": {},
   "source": [
    "- A column dictionary can be viewed as a two-dimensional entity with retrieval by name in the first dimension and by position within column in the second.\n",
    "- Specifying only a name retrieves the corresponding column, which can then be indexed by position.\n",
    "- Specifying only a column index retrieves a slice dictionary that maps the names to the associated values across that column index."
   ]
  },
  {
   "cell_type": "markdown",
   "metadata": {},
   "source": [
    "### Column Dictionary with a Single Column"
   ]
  },
  {
   "cell_type": "code",
   "execution_count": 62,
   "metadata": {
    "ExecuteTime": {
     "end_time": "2020-11-19T12:37:44.106989000Z",
     "start_time": "2020-11-19T12:37:42.864Z"
    }
   },
   "outputs": [
    {
     "data": {
      "text/plain": [
       "c| 10 20 30\n"
      ]
     },
     "execution_count": 62,
     "metadata": {},
     "output_type": "execute_result"
    }
   ],
   "source": [
    "dc1:(enlist `c)!enlist 10 20 30\n",
    "dc1"
   ]
  },
  {
   "cell_type": "markdown",
   "metadata": {},
   "source": [
    "**As noted previously, the following isn’t even a valid dictionary, let alone a column dictionary.**"
   ]
  },
  {
   "cell_type": "code",
   "execution_count": 63,
   "metadata": {
    "ExecuteTime": {
     "end_time": "2020-11-19T12:38:06.264923000Z",
     "start_time": "2020-11-19T12:38:06.261Z"
    }
   },
   "outputs": [
    {
     "data": {
      "text/plain": [
       "`c!1 2 3\n"
      ]
     },
     "execution_count": 63,
     "metadata": {},
     "output_type": "execute_result"
    }
   ],
   "source": [
    "`c!1 2 3"
   ]
  },
  {
   "cell_type": "markdown",
   "metadata": {},
   "source": [
    "## Flipping a Column Dictionary"
   ]
  },
  {
   "cell_type": "code",
   "execution_count": 64,
   "metadata": {
    "ExecuteTime": {
     "end_time": "2020-11-19T12:38:31.599190000Z",
     "start_time": "2020-11-19T12:38:31.595Z"
    }
   },
   "outputs": [
    {
     "data": {
      "text/plain": [
       "10  20  30 \n",
       "100 200 300\n"
      ]
     },
     "execution_count": 64,
     "metadata": {},
     "output_type": "execute_result"
    },
    {
     "data": {
      "text/plain": [
       "10 100\n",
       "20 200\n",
       "30 300\n"
      ]
     },
     "execution_count": 64,
     "metadata": {},
     "output_type": "execute_result"
    }
   ],
   "source": [
    "L:(10 20 30; 100 200 300)\n",
    "L\n",
    "flip L"
   ]
  },
  {
   "cell_type": "code",
   "execution_count": 65,
   "metadata": {
    "ExecuteTime": {
     "end_time": "2020-11-19T12:39:14.594003000Z",
     "start_time": "2020-11-19T12:39:14.586Z"
    }
   },
   "outputs": [
    {
     "data": {
      "text/plain": [
       "10\n"
      ]
     },
     "execution_count": 65,
     "metadata": {},
     "output_type": "execute_result"
    },
    {
     "data": {
      "text/plain": [
       "20\n"
      ]
     },
     "execution_count": 65,
     "metadata": {},
     "output_type": "execute_result"
    },
    {
     "data": {
      "text/plain": [
       "30\n"
      ]
     },
     "execution_count": 65,
     "metadata": {},
     "output_type": "execute_result"
    },
    {
     "data": {
      "text/plain": [
       "10\n"
      ]
     },
     "execution_count": 65,
     "metadata": {},
     "output_type": "execute_result"
    },
    {
     "data": {
      "text/plain": [
       "20\n"
      ]
     },
     "execution_count": 65,
     "metadata": {},
     "output_type": "execute_result"
    },
    {
     "data": {
      "text/plain": [
       "30\n"
      ]
     },
     "execution_count": 65,
     "metadata": {},
     "output_type": "execute_result"
    }
   ],
   "source": [
    "L:(10 20 30; 100 200 300)\n",
    "M: flip L\n",
    "L[0; 0]\n",
    "L[0; 1]\n",
    "L[0; 2]\n",
    "M[0; 0]\n",
    "M[1; 0]\n",
    "M[2; 0]"
   ]
  },
  {
   "cell_type": "markdown",
   "metadata": {},
   "source": [
    "Recall that applying `flip` to a nested list creates a copy of the original list in which the data has been reorganized. When a column dictionary is considered as a two-dimensional entity it is rectangular, since its column lists all have the same count. The console display shows this."
   ]
  },
  {
   "cell_type": "code",
   "execution_count": 66,
   "metadata": {
    "ExecuteTime": {
     "end_time": "2020-11-19T12:41:02.076397000Z",
     "start_time": "2020-11-19T12:41:02.069Z"
    }
   },
   "outputs": [
    {
     "data": {
      "text/plain": [
       "c1| a  b  c \n",
       "c2| 10 20 30\n"
      ]
     },
     "execution_count": 66,
     "metadata": {},
     "output_type": "execute_result"
    }
   ],
   "source": [
    "`c1`c2!(`a`b`c; 10 20 30)"
   ]
  },
  {
   "cell_type": "code",
   "execution_count": 67,
   "metadata": {
    "ExecuteTime": {
     "end_time": "2020-11-19T12:41:08.958310000Z",
     "start_time": "2020-11-19T12:41:08.955Z"
    }
   },
   "outputs": [
    {
     "data": {
      "text/plain": [
       "c1| a  b  c \n",
       "c2| 10 20 30\n"
      ]
     },
     "execution_count": 67,
     "metadata": {},
     "output_type": "execute_result"
    }
   ],
   "source": [
    "dc:`c1`c2!(`a`b`c; 10 20 30)\n",
    "dc"
   ]
  },
  {
   "cell_type": "code",
   "execution_count": 69,
   "metadata": {
    "ExecuteTime": {
     "end_time": "2020-11-19T12:41:17.837786000Z",
     "start_time": "2020-11-19T12:41:17.833Z"
    }
   },
   "outputs": [
    {
     "data": {
      "text/plain": [
       "c1 c2\n",
       "-----\n",
       "a  10\n",
       "b  20\n",
       "c  30\n"
      ]
     },
     "execution_count": 69,
     "metadata": {},
     "output_type": "execute_result"
    }
   ],
   "source": [
    "t:flip dc\n",
    "t"
   ]
  },
  {
   "cell_type": "code",
   "execution_count": 70,
   "metadata": {
    "ExecuteTime": {
     "end_time": "2020-11-19T12:41:44.641926000Z",
     "start_time": "2020-11-19T12:41:44.636Z"
    }
   },
   "outputs": [
    {
     "data": {
      "text/plain": [
       "`a\n"
      ]
     },
     "execution_count": 70,
     "metadata": {},
     "output_type": "execute_result"
    },
    {
     "data": {
      "text/plain": [
       "`b\n"
      ]
     },
     "execution_count": 70,
     "metadata": {},
     "output_type": "execute_result"
    },
    {
     "data": {
      "text/plain": [
       "`c\n"
      ]
     },
     "execution_count": 70,
     "metadata": {},
     "output_type": "execute_result"
    },
    {
     "data": {
      "text/plain": [
       "`a\n"
      ]
     },
     "execution_count": 70,
     "metadata": {},
     "output_type": "execute_result"
    },
    {
     "data": {
      "text/plain": [
       "`b\n"
      ]
     },
     "execution_count": 70,
     "metadata": {},
     "output_type": "execute_result"
    },
    {
     "data": {
      "text/plain": [
       "`c\n"
      ]
     },
     "execution_count": 70,
     "metadata": {},
     "output_type": "execute_result"
    }
   ],
   "source": [
    "dc[`c1; 0]\n",
    "dc[`c1; 1]\n",
    "dc[`c1; 2]\n",
    "t[0; `c1]\n",
    "t[1; `c1]\n",
    "t[2; `c1]"
   ]
  },
  {
   "cell_type": "code",
   "execution_count": 71,
   "metadata": {
    "ExecuteTime": {
     "end_time": "2020-11-19T12:42:31.227912000Z",
     "start_time": "2020-11-19T12:42:31.216Z"
    }
   },
   "outputs": [
    {
     "data": {
      "text/plain": [
       "`a`b`c\n"
      ]
     },
     "execution_count": 71,
     "metadata": {},
     "output_type": "execute_result"
    },
    {
     "data": {
      "text/plain": [
       "`a`b`c\n"
      ]
     },
     "execution_count": 71,
     "metadata": {},
     "output_type": "execute_result"
    },
    {
     "data": {
      "text/plain": [
       "c1| `a\n",
       "c2| 10\n"
      ]
     },
     "execution_count": 71,
     "metadata": {},
     "output_type": "execute_result"
    },
    {
     "data": {
      "text/plain": [
       "c1| `a\n",
       "c2| 10\n"
      ]
     },
     "execution_count": 71,
     "metadata": {},
     "output_type": "execute_result"
    },
    {
     "data": {
      "text/plain": [
       "20\n"
      ]
     },
     "execution_count": 71,
     "metadata": {},
     "output_type": "execute_result"
    },
    {
     "data": {
      "text/plain": [
       "20\n"
      ]
     },
     "execution_count": 71,
     "metadata": {},
     "output_type": "execute_result"
    }
   ],
   "source": [
    "dc[`c1;]\n",
    "t[;`c1]\n",
    "dc[;0]\n",
    "t[0;]\n",
    "dc[`c2;1]\n",
    "t[1;`c2]"
   ]
  },
  {
   "cell_type": "code",
   "execution_count": 72,
   "metadata": {
    "ExecuteTime": {
     "end_time": "2020-11-19T12:43:04.103706000Z",
     "start_time": "2020-11-19T12:43:04.097Z"
    }
   },
   "outputs": [
    {
     "data": {
      "text/plain": [
       "`a`b`c\n"
      ]
     },
     "execution_count": 72,
     "metadata": {},
     "output_type": "execute_result"
    },
    {
     "data": {
      "text/plain": [
       "c1| `a\n",
       "c2| 10\n"
      ]
     },
     "execution_count": 72,
     "metadata": {},
     "output_type": "execute_result"
    },
    {
     "data": {
      "text/plain": [
       "20\n"
      ]
     },
     "execution_count": 72,
     "metadata": {},
     "output_type": "execute_result"
    }
   ],
   "source": [
    "t[;`c1]\n",
    "t[0;]\n",
    "t[1;`c2]"
   ]
  },
  {
   "cell_type": "code",
   "execution_count": 73,
   "metadata": {
    "ExecuteTime": {
     "end_time": "2020-11-19T12:43:12.095273000Z",
     "start_time": "2020-11-19T12:43:12.085Z"
    }
   },
   "outputs": [
    {
     "data": {
      "text/plain": [
       "c1| `a\n",
       "c2| 10\n"
      ]
     },
     "execution_count": 73,
     "metadata": {},
     "output_type": "execute_result"
    },
    {
     "data": {
      "text/plain": [
       "c1| `b\n",
       "c2| 20\n"
      ]
     },
     "execution_count": 73,
     "metadata": {},
     "output_type": "execute_result"
    },
    {
     "data": {
      "text/plain": [
       "c1| `c\n",
       "c2| 30\n"
      ]
     },
     "execution_count": 73,
     "metadata": {},
     "output_type": "execute_result"
    }
   ],
   "source": [
    "t[0]\n",
    "t[1]\n",
    "t[2]"
   ]
  },
  {
   "cell_type": "code",
   "execution_count": 74,
   "metadata": {
    "ExecuteTime": {
     "end_time": "2020-11-19T12:43:34.468513000Z",
     "start_time": "2020-11-19T12:43:34.465Z"
    }
   },
   "outputs": [
    {
     "data": {
      "text/plain": [
       "1b\n"
      ]
     },
     "execution_count": 74,
     "metadata": {},
     "output_type": "execute_result"
    },
    {
     "data": {
      "text/plain": [
       "1b\n"
      ]
     },
     "execution_count": 74,
     "metadata": {},
     "output_type": "execute_result"
    }
   ],
   "source": [
    "dc~flip flip dc\n",
    "dc~flip t"
   ]
  },
  {
   "cell_type": "code",
   "execution_count": 78,
   "metadata": {
    "ExecuteTime": {
     "end_time": "2020-11-19T12:44:35.618784000Z",
     "start_time": "2020-11-19T12:44:35.611Z"
    }
   },
   "outputs": [
    {
     "data": {
      "text/plain": [
       "c1| x  b  c \n",
       "c2| 10 20 30\n"
      ]
     },
     "execution_count": 78,
     "metadata": {},
     "output_type": "execute_result"
    }
   ],
   "source": [
    "dc[`c1;0]:`x\n",
    "dc"
   ]
  },
  {
   "cell_type": "code",
   "execution_count": 79,
   "metadata": {
    "ExecuteTime": {
     "end_time": "2020-11-19T12:44:37.489270000Z",
     "start_time": "2020-11-19T12:44:37.482Z"
    }
   },
   "outputs": [
    {
     "data": {
      "text/plain": [
       "c1 c2\n",
       "-----\n",
       "a  10\n",
       "b  20\n",
       "c  30\n"
      ]
     },
     "execution_count": 79,
     "metadata": {},
     "output_type": "execute_result"
    }
   ],
   "source": [
    "t"
   ]
  },
  {
   "cell_type": "code",
   "execution_count": null,
   "metadata": {},
   "outputs": [],
   "source": []
  }
 ],
 "metadata": {
  "kernelspec": {
   "display_name": "Q (kdb+)",
   "language": "q",
   "name": "qpk"
  },
  "language_info": {
   "file_extension": ".q",
   "mimetype": "text/x-q",
   "name": "q",
   "version": "4.0"
  },
  "toc": {
   "base_numbering": 1,
   "nav_menu": {},
   "number_sections": true,
   "sideBar": true,
   "skip_h1_title": false,
   "title_cell": "Table of Contents",
   "title_sidebar": "Contents",
   "toc_cell": true,
   "toc_position": {},
   "toc_section_display": true,
   "toc_window_display": false
  }
 },
 "nbformat": 4,
 "nbformat_minor": 4
}
